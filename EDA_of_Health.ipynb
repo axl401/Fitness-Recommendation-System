{
  "nbformat": 4,
  "nbformat_minor": 0,
  "metadata": {
    "colab": {
      "name": "EDA-of-Health.ipynb",
      "provenance": [],
      "collapsed_sections": []
    },
    "kernelspec": {
      "name": "python3",
      "display_name": "Python 3"
    },
    "language_info": {
      "name": "python"
    }
  },
  "cells": [
    {
      "cell_type": "markdown",
      "source": [
        "# Exploratory Data Analysis for Fitbit Health\n",
        "\n",
        "## Export json files into multiple small csv files to store dataset"
      ],
      "metadata": {
        "id": "7LKGSAHjgBCV"
      }
    },
    {
      "cell_type": "code",
      "source": [
        "#from google.colab import drive\n",
        "#drive.mount('/content/drive')\n",
        "import pandas as pd\n",
        "import gzip\n",
        "data = []\n",
        "#with gzip.open('endomondoHR.json.gz') as f:\n",
        "with open('/content/drive/MyDrive/endomondoHR_proper.json') as f:\n",
        "    i = 1\n",
        "    for l in f:\n",
        "        if i % 50000!=0:\n",
        "            data.append(eval(l))\n",
        "            i+=1\n",
        "        else:\n",
        "            path = '/content/drive/MyDrive/'+str(i//50000)+'pro.csv'\n",
        "            pd.DataFrame(data).to_csv(path)\n",
        "            i+=1\n",
        "            data = []\n",
        "            print(i)"
      ],
      "metadata": {
        "colab": {
          "base_uri": "https://localhost:8080/"
        },
        "id": "vivi7cY7xjqr",
        "outputId": "d1436ca6-c28c-4e85-92b2-bc7004615398"
      },
      "execution_count": null,
      "outputs": [
        {
          "output_type": "stream",
          "name": "stdout",
          "text": [
            "50001\n",
            "100001\n",
            "150001\n"
          ]
        }
      ]
    },
    {
      "cell_type": "code",
      "source": [
        "import gzip\n",
        "from google.colab import drive\n",
        "import pandas as pd\n",
        "\n",
        "#drive.mount('/content/gdrive/')\n",
        "\n",
        "data = []\n",
        "with gzip.open('/content/drive/MyDrive/endomondoMeta.json.gz') as f:\n",
        "    i = 1\n",
        "    for l in f:\n",
        "        if i % 100000!=0:\n",
        "            data.append(eval(l))\n",
        "            i+=1\n",
        "        else:\n",
        "            path = '/content/drive/MyDrive/'+str(i//100000)+'.csv'\n",
        "\n",
        "            pd.DataFrame(data)[['weather','id','hydration']].to_csv(path)\n",
        "            i+=1\n",
        "            data = []\n",
        "            print(i)"
      ],
      "metadata": {
        "id": "B7TdG23_L7ru",
        "colab": {
          "base_uri": "https://localhost:8080/"
        },
        "outputId": "4b106815-414e-4eb5-e2d3-39b73d17fb30"
      },
      "execution_count": null,
      "outputs": [
        {
          "output_type": "stream",
          "name": "stdout",
          "text": [
            "100001\n",
            "200001\n",
            "300001\n",
            "400001\n",
            "500001\n",
            "600001\n",
            "700001\n",
            "800001\n",
            "900001\n"
          ]
        }
      ]
    },
    {
      "cell_type": "markdown",
      "source": [
        "## Import Spark "
      ],
      "metadata": {
        "id": "AHukP0RhgaoJ"
      }
    },
    {
      "cell_type": "code",
      "source": [
        "!apt-get install openjdk-8-jdk-headless -qq > /dev/null\n",
        "!wget -q http://archive.apache.org/dist/spark/spark-3.1.1/spark-3.1.1-bin-hadoop3.2.tgz\n",
        "!tar xf spark-3.1.1-bin-hadoop3.2.tgz\n",
        "!pip install -q findspark"
      ],
      "metadata": {
        "id": "hhx_S5HBztlE"
      },
      "execution_count": 1,
      "outputs": []
    },
    {
      "cell_type": "code",
      "source": [
        "import os\n",
        "os.environ[\"JAVA_HOME\"] = \"/usr/lib/jvm/java-8-openjdk-amd64\"\n",
        "os.environ[\"SPARK_HOME\"] = \"/content/spark-3.1.1-bin-hadoop3.2\""
      ],
      "metadata": {
        "id": "NqCoes_0zv8K"
      },
      "execution_count": 2,
      "outputs": []
    },
    {
      "cell_type": "code",
      "source": [
        "import findspark\n",
        "findspark.init()\n",
        "from pyspark.sql import SparkSession\n",
        "spark = SparkSession.builder.master(\"local[*]\").getOrCreate()\n",
        "spark.conf.set(\"spark.sql.repl.eagerEval.enabled\", True) # Property used to format output tables better\n",
        "spark"
      ],
      "metadata": {
        "colab": {
          "base_uri": "https://localhost:8080/",
          "height": 219
        },
        "id": "K_ftx6qCx5wf",
        "outputId": "d87ca111-a09a-440d-fb85-ec56bfe99817"
      },
      "execution_count": 3,
      "outputs": [
        {
          "output_type": "execute_result",
          "data": {
            "text/plain": [
              "<pyspark.sql.session.SparkSession at 0x7f2bd2eff810>"
            ],
            "text/html": [
              "\n",
              "            <div>\n",
              "                <p><b>SparkSession - in-memory</b></p>\n",
              "                \n",
              "        <div>\n",
              "            <p><b>SparkContext</b></p>\n",
              "\n",
              "            <p><a href=\"http://df405082e480:4040\">Spark UI</a></p>\n",
              "\n",
              "            <dl>\n",
              "              <dt>Version</dt>\n",
              "                <dd><code>v3.1.1</code></dd>\n",
              "              <dt>Master</dt>\n",
              "                <dd><code>local[*]</code></dd>\n",
              "              <dt>AppName</dt>\n",
              "                <dd><code>pyspark-shell</code></dd>\n",
              "            </dl>\n",
              "        </div>\n",
              "        \n",
              "            </div>\n",
              "        "
            ]
          },
          "metadata": {},
          "execution_count": 3
        }
      ]
    },
    {
      "cell_type": "code",
      "source": [
        "from pyspark.sql.functions import mean as _mean, stddev as _stddev, col, max as _max,  min as _min\n",
        "! pip install pyspark_dist_explore\n",
        "from pyspark_dist_explore import hist\n",
        "import matplotlib.pyplot as plt\n",
        "from pyspark.sql.functions import countDistinct\n",
        "from pyspark.sql.functions import col\n",
        "import matplotlib.pyplot as plt\n",
        "from pyspark.sql import *\n",
        "from pyspark.sql.functions import from_json, col\n",
        "from pyspark.sql.types import StructType\n",
        "from pyspark.sql.types import *\n",
        "import pandas as pd\n",
        "import numpy as np\n"
      ],
      "metadata": {
        "id": "VO0aR7PmvZMl"
      },
      "execution_count": null,
      "outputs": []
    },
    {
      "cell_type": "markdown",
      "source": [
        "## EndomondoHR\n",
        "EndomondoHR\n",
        "- The dataset contains 149997 rows and 12 columns\n",
        "- Missingness\n",
        "  - Only `speed` column contains missing data of 121634 missing entries\n",
        "- `sport`\n",
        "  - There are total of 41 categories in `sport`\n",
        "  - The top 10 most popular sports are \n",
        "    1. run (63608)\n",
        "    2. bike (63093)\n",
        "    3. mountain bike (10033)\n",
        "    4. bike - transport (6993)\n",
        "    5. indoor cycling (1565)\n",
        "    6. walk (1166)\n",
        "    7. orienteering (814)\n",
        "    8. cross-country skiing (746)\n",
        "    9. core stability training (406)\n",
        "    10. fitness walking (278)\n",
        "- `gender`\n",
        "  - `gender` distribution\n",
        "    - unknown\t906\n",
        "    - female\t9537\n",
        "    - male\t139554\n",
        "  - `gender` might influence the selection of `sport`\n",
        "    - While the top 10 most popular `sport` for male and female are quite similar, the ranking of the `sport` is different\n",
        "    - Male engage in 41 unique `sport` activities, while female only engage in 22 unique `sport` activities \n",
        "- `userId`\n",
        "  - There are 100317 unique `userId`\n",
        "  - The top 10 most frequent users have the number of entries from 1261 to 539\n",
        "  - The number of entires per user decreases exponentially and higher skewed to the right\n",
        "\n",
        "\n",
        "## EndomondoHR Dataset Analysis\n",
        "\n"
      ],
      "metadata": {
        "id": "H2H4n0iiisgs"
      }
    },
    {
      "cell_type": "code",
      "source": [
        "from google.colab import drive\n",
        "drive.mount('/content/gdrive/')\n",
        "# Endomondo HR Files\n",
        "pro1 = spark.read.option(\"header\",\"true\").csv(\"/content/gdrive/MyDrive/1pro.csv\")\n",
        "pro2 = spark.read.option(\"header\",\"true\").csv(\"/content/gdrive/MyDrive/2pro.csv\")\n",
        "pro3 = spark.read.option(\"header\",\"true\").csv(\"/content/gdrive/MyDrive/3pro.csv\")\n",
        "dfhr = pro1.union(pro2).union(pro3)\n",
        "print((dfhr.count(), len(dfhr.columns)))"
      ],
      "metadata": {
        "id": "2Uj5sWQ7gspp",
        "colab": {
          "base_uri": "https://localhost:8080/"
        },
        "outputId": "b3ab91c5-5c48-4b8c-d3c3-ee3ea2fc642e"
      },
      "execution_count": 4,
      "outputs": [
        {
          "output_type": "stream",
          "name": "stdout",
          "text": [
            "Mounted at /content/gdrive/\n",
            "(149997, 12)\n"
          ]
        }
      ]
    },
    {
      "cell_type": "code",
      "source": [
        "dfhr"
      ],
      "metadata": {
        "colab": {
          "base_uri": "https://localhost:8080/",
          "height": 529
        },
        "id": "B7-RTF7d-n9R",
        "outputId": "6b603e4a-8378-46bb-ca32-b5008546ce70"
      },
      "execution_count": 26,
      "outputs": [
        {
          "output_type": "execute_result",
          "data": {
            "text/plain": [
              "+---+--------------------+--------------------+--------------------+----------------+---------+--------------------+------+--------------------+--------------------+--------+--------------------+\n",
              "|_c0|           longitude|            altitude|            latitude|           sport|       id|          heart_rate|gender|           timestamp|                 url|  userId|               speed|\n",
              "+---+--------------------+--------------------+--------------------+----------------+---------+--------------------+------+--------------------+--------------------+--------+--------------------+\n",
              "|  0|[24.6497704088687...|[41.6, 40.6, 40.6...|[60.1733487658202...|            bike|396826535|[100, 111, 120, 1...|  male|[1408898746, 1408...|https://www.endom...|10921915|[6.8652, 16.4736,...|\n",
              "|  1|[24.6498552337288...|[38.4, 39.0, 39.0...|[60.1732475962489...|            bike|392337038|[100, 105, 111, 1...|  male|[1408221682, 1408...|https://www.endom...|10921915|[9.0792, 13.284, ...|\n",
              "|  2|[24.6499565709382...|[76.4, 73.2, 72.4...|[60.1732620131224...|            bike|389643739|[99, 105, 113, 11...|  male|[1407858459, 1407...|https://www.endom...|10921915|[4.0464, 13.8204,...|\n",
              "|  3|[24.6498743444681...|[28.6, 29.4, 29.4...|[60.1732862368226...|            bike|386729739|[99, 105, 113, 10...|  male|[1407432042, 1407...|https://www.endom...|10921915|[7.4988, 15.4008,...|\n",
              "|  4|[24.6497983206063...|[32.0, 32.0, 32.0...|[60.1732932776212...|bike (transport)|383186560|[110, 113, 114, 1...|  male|[1406909434, 1406...|https://www.endom...|10921915|                null|\n",
              "|  5|[24.8177003301680...|[30.6, 30.6, 30.8...|[60.1835850812494...|bike (transport)|381331596|[106, 110, 113, 1...|  male|[1406665232, 1406...|https://www.endom...|10921915|                null|\n",
              "|  6|[24.6498169284313...|[24.0, 24.0, 24.0...|[60.1732791960239...|bike (transport)|381185226|[118, 118, 119, 1...|  male|[1406647079, 1406...|https://www.endom...|10921915|[7.218, 9.8208, 1...|\n",
              "|  7|[24.8174669779837...|[0.0, 0.0, -0.2, ...|[60.1836616918444...|bike (transport)|380802496|[112, 115, 118, 1...|  male|[1406580617, 1406...|https://www.endom...|10921915|[10.6848, 17.6616...|\n",
              "|  8|[24.6496761962771...|[12.2, 12.2, 10.0...|[60.1733179204165...|            bike|372368431|[100, 108, 101, 9...|  male|[1405281638, 1405...|https://www.endom...|10921915|                null|\n",
              "|  9|[24.6501833852380...|[21.2, 22.0, 22.0...|[60.1732459198683...|            bike|371302193|[100, 98, 104, 10...|  male|[1405100572, 1405...|https://www.endom...|10921915|[16.4124, 11.682,...|\n",
              "| 10|[24.6498210355639...|[0.0, 0.6, 0.6, 0...|[60.1732766814529...|            bike|369236357|[107, 112, 115, 1...|  male|[1404774259, 1404...|https://www.endom...|10921915|                null|\n",
              "| 11|[24.6496843267232...|[34.2, 34.2, 34.2...|[60.1733260508626...|bike (transport)|367471127|[99, 107, 117, 12...|  male|[1404492369, 1404...|https://www.endom...|10921915|                null|\n",
              "| 12|[24.6497029345482...|[33.6, 32.4, 32.4...|[60.1732280664145...|            bike|366977747|[91, 100, 107, 10...|  male|[1404415397, 1404...|https://www.endom...|10921915|[3.96, 13.3524, 1...|\n",
              "| 13|[24.6497906092554...|[39.6, 39.6, 41.8...|[60.1733661163598...|            bike|366415571|[98, 99, 102, 106...|  male|[1404322247, 1404...|https://www.endom...|10921915|                null|\n",
              "| 14|[24.6496615279465...|[80.8, 81.4, 81.4...|[60.1732900924980...|            bike|361714712|[99, 104, 118, 12...|  male|[1403535990, 1403...|https://www.endom...|10921915|[5.4972, 13.878, ...|\n",
              "| 15|[24.6497200336307...|[32.8, 31.2, 30.0...|[60.1732845604419...|            bike|361662390|[102, 110, 117, 1...|  male|[1403464723, 1403...|https://www.endom...|10921915|[5.4288, 16.3044,...|\n",
              "| 16|[24.6498465165495...|[129.8, 130.0, 13...|[60.1732426509261...|            bike|360298984|[93, 101, 107, 10...|  male|[1403285161, 1403...|https://www.endom...|10921915|                null|\n",
              "| 17|[24.6497106458991...|[34.6, 34.4, 34.4...|[60.1732972171157...|            bike|359283997|[92, 104, 112, 11...|  male|[1403115202, 1403...|https://www.endom...|10921915|[6.48, 15.5232, 1...|\n",
              "| 18|[24.6497158426791...|[44.4, 44.4, 44.4...|[60.1733070239424...|            bike|358700141|[86, 88, 97, 105,...|  male|[1403029092, 1403...|https://www.endom...|10921915|                null|\n",
              "| 19|[24.6497837360948...|[26.4, 26.6, 26.6...|[60.1733059342950...|            bike|358164671|[98, 98, 107, 111...|  male|[1402943301, 1402...|https://www.endom...|10921915|                null|\n",
              "+---+--------------------+--------------------+--------------------+----------------+---------+--------------------+------+--------------------+--------------------+--------+--------------------+\n",
              "only showing top 20 rows"
            ],
            "text/html": [
              "<table border='1'>\n",
              "<tr><th>_c0</th><th>longitude</th><th>altitude</th><th>latitude</th><th>sport</th><th>id</th><th>heart_rate</th><th>gender</th><th>timestamp</th><th>url</th><th>userId</th><th>speed</th></tr>\n",
              "<tr><td>0</td><td>[24.6497704088687...</td><td>[41.6, 40.6, 40.6...</td><td>[60.1733487658202...</td><td>bike</td><td>396826535</td><td>[100, 111, 120, 1...</td><td>male</td><td>[1408898746, 1408...</td><td>https://www.endom...</td><td>10921915</td><td>[6.8652, 16.4736,...</td></tr>\n",
              "<tr><td>1</td><td>[24.6498552337288...</td><td>[38.4, 39.0, 39.0...</td><td>[60.1732475962489...</td><td>bike</td><td>392337038</td><td>[100, 105, 111, 1...</td><td>male</td><td>[1408221682, 1408...</td><td>https://www.endom...</td><td>10921915</td><td>[9.0792, 13.284, ...</td></tr>\n",
              "<tr><td>2</td><td>[24.6499565709382...</td><td>[76.4, 73.2, 72.4...</td><td>[60.1732620131224...</td><td>bike</td><td>389643739</td><td>[99, 105, 113, 11...</td><td>male</td><td>[1407858459, 1407...</td><td>https://www.endom...</td><td>10921915</td><td>[4.0464, 13.8204,...</td></tr>\n",
              "<tr><td>3</td><td>[24.6498743444681...</td><td>[28.6, 29.4, 29.4...</td><td>[60.1732862368226...</td><td>bike</td><td>386729739</td><td>[99, 105, 113, 10...</td><td>male</td><td>[1407432042, 1407...</td><td>https://www.endom...</td><td>10921915</td><td>[7.4988, 15.4008,...</td></tr>\n",
              "<tr><td>4</td><td>[24.6497983206063...</td><td>[32.0, 32.0, 32.0...</td><td>[60.1732932776212...</td><td>bike (transport)</td><td>383186560</td><td>[110, 113, 114, 1...</td><td>male</td><td>[1406909434, 1406...</td><td>https://www.endom...</td><td>10921915</td><td>null</td></tr>\n",
              "<tr><td>5</td><td>[24.8177003301680...</td><td>[30.6, 30.6, 30.8...</td><td>[60.1835850812494...</td><td>bike (transport)</td><td>381331596</td><td>[106, 110, 113, 1...</td><td>male</td><td>[1406665232, 1406...</td><td>https://www.endom...</td><td>10921915</td><td>null</td></tr>\n",
              "<tr><td>6</td><td>[24.6498169284313...</td><td>[24.0, 24.0, 24.0...</td><td>[60.1732791960239...</td><td>bike (transport)</td><td>381185226</td><td>[118, 118, 119, 1...</td><td>male</td><td>[1406647079, 1406...</td><td>https://www.endom...</td><td>10921915</td><td>[7.218, 9.8208, 1...</td></tr>\n",
              "<tr><td>7</td><td>[24.8174669779837...</td><td>[0.0, 0.0, -0.2, ...</td><td>[60.1836616918444...</td><td>bike (transport)</td><td>380802496</td><td>[112, 115, 118, 1...</td><td>male</td><td>[1406580617, 1406...</td><td>https://www.endom...</td><td>10921915</td><td>[10.6848, 17.6616...</td></tr>\n",
              "<tr><td>8</td><td>[24.6496761962771...</td><td>[12.2, 12.2, 10.0...</td><td>[60.1733179204165...</td><td>bike</td><td>372368431</td><td>[100, 108, 101, 9...</td><td>male</td><td>[1405281638, 1405...</td><td>https://www.endom...</td><td>10921915</td><td>null</td></tr>\n",
              "<tr><td>9</td><td>[24.6501833852380...</td><td>[21.2, 22.0, 22.0...</td><td>[60.1732459198683...</td><td>bike</td><td>371302193</td><td>[100, 98, 104, 10...</td><td>male</td><td>[1405100572, 1405...</td><td>https://www.endom...</td><td>10921915</td><td>[16.4124, 11.682,...</td></tr>\n",
              "<tr><td>10</td><td>[24.6498210355639...</td><td>[0.0, 0.6, 0.6, 0...</td><td>[60.1732766814529...</td><td>bike</td><td>369236357</td><td>[107, 112, 115, 1...</td><td>male</td><td>[1404774259, 1404...</td><td>https://www.endom...</td><td>10921915</td><td>null</td></tr>\n",
              "<tr><td>11</td><td>[24.6496843267232...</td><td>[34.2, 34.2, 34.2...</td><td>[60.1733260508626...</td><td>bike (transport)</td><td>367471127</td><td>[99, 107, 117, 12...</td><td>male</td><td>[1404492369, 1404...</td><td>https://www.endom...</td><td>10921915</td><td>null</td></tr>\n",
              "<tr><td>12</td><td>[24.6497029345482...</td><td>[33.6, 32.4, 32.4...</td><td>[60.1732280664145...</td><td>bike</td><td>366977747</td><td>[91, 100, 107, 10...</td><td>male</td><td>[1404415397, 1404...</td><td>https://www.endom...</td><td>10921915</td><td>[3.96, 13.3524, 1...</td></tr>\n",
              "<tr><td>13</td><td>[24.6497906092554...</td><td>[39.6, 39.6, 41.8...</td><td>[60.1733661163598...</td><td>bike</td><td>366415571</td><td>[98, 99, 102, 106...</td><td>male</td><td>[1404322247, 1404...</td><td>https://www.endom...</td><td>10921915</td><td>null</td></tr>\n",
              "<tr><td>14</td><td>[24.6496615279465...</td><td>[80.8, 81.4, 81.4...</td><td>[60.1732900924980...</td><td>bike</td><td>361714712</td><td>[99, 104, 118, 12...</td><td>male</td><td>[1403535990, 1403...</td><td>https://www.endom...</td><td>10921915</td><td>[5.4972, 13.878, ...</td></tr>\n",
              "<tr><td>15</td><td>[24.6497200336307...</td><td>[32.8, 31.2, 30.0...</td><td>[60.1732845604419...</td><td>bike</td><td>361662390</td><td>[102, 110, 117, 1...</td><td>male</td><td>[1403464723, 1403...</td><td>https://www.endom...</td><td>10921915</td><td>[5.4288, 16.3044,...</td></tr>\n",
              "<tr><td>16</td><td>[24.6498465165495...</td><td>[129.8, 130.0, 13...</td><td>[60.1732426509261...</td><td>bike</td><td>360298984</td><td>[93, 101, 107, 10...</td><td>male</td><td>[1403285161, 1403...</td><td>https://www.endom...</td><td>10921915</td><td>null</td></tr>\n",
              "<tr><td>17</td><td>[24.6497106458991...</td><td>[34.6, 34.4, 34.4...</td><td>[60.1732972171157...</td><td>bike</td><td>359283997</td><td>[92, 104, 112, 11...</td><td>male</td><td>[1403115202, 1403...</td><td>https://www.endom...</td><td>10921915</td><td>[6.48, 15.5232, 1...</td></tr>\n",
              "<tr><td>18</td><td>[24.6497158426791...</td><td>[44.4, 44.4, 44.4...</td><td>[60.1733070239424...</td><td>bike</td><td>358700141</td><td>[86, 88, 97, 105,...</td><td>male</td><td>[1403029092, 1403...</td><td>https://www.endom...</td><td>10921915</td><td>null</td></tr>\n",
              "<tr><td>19</td><td>[24.6497837360948...</td><td>[26.4, 26.6, 26.6...</td><td>[60.1733059342950...</td><td>bike</td><td>358164671</td><td>[98, 98, 107, 111...</td><td>male</td><td>[1402943301, 1402...</td><td>https://www.endom...</td><td>10921915</td><td>null</td></tr>\n",
              "</table>\n",
              "only showing top 20 rows\n"
            ]
          },
          "metadata": {},
          "execution_count": 26
        }
      ]
    },
    {
      "cell_type": "code",
      "source": [
        "# 1. Missing values\n",
        "dfhr.select([count(when(isnan(c) | col(c).isNull(), c)).alias(c) for c in dfhr.columns]).show()"
      ],
      "metadata": {
        "id": "a8U9npKegs2n",
        "colab": {
          "base_uri": "https://localhost:8080/"
        },
        "outputId": "9382ed08-1481-4c4d-aea0-2173caca1a3c"
      },
      "execution_count": 16,
      "outputs": [
        {
          "output_type": "stream",
          "name": "stdout",
          "text": [
            "+---+---------+--------+--------+-----+---+----------+------+---------+---+------+------+\n",
            "|_c0|longitude|altitude|latitude|sport| id|heart_rate|gender|timestamp|url|userId| speed|\n",
            "+---+---------+--------+--------+-----+---+----------+------+---------+---+------+------+\n",
            "|  0|        0|       0|       0|    0|  0|         0|     0|        0|  0|     0|121634|\n",
            "+---+---------+--------+--------+-----+---+----------+------+---------+---+------+------+\n",
            "\n"
          ]
        }
      ]
    },
    {
      "cell_type": "code",
      "source": [
        "# 2. Sport Categories\n",
        "dfcount = dfhr.groupBy(\"sport\").count()\n",
        "dfcount = dfcount.sort(col(\"count\"))\n",
        "print('Total number of unique sports: '+ str(dfcount.count()))\n",
        "dfcount.tail(10)"
      ],
      "metadata": {
        "id": "M1agDjd2r8hi",
        "colab": {
          "base_uri": "https://localhost:8080/",
          "height": 415
        },
        "outputId": "9dd7a49f-805c-4f11-c415-bb672bed99ba"
      },
      "execution_count": 103,
      "outputs": [
        {
          "output_type": "stream",
          "name": "stdout",
          "text": [
            "Total number of unique sports: sport    41\n",
            "count    41\n",
            "dtype: int64\n"
          ]
        },
        {
          "output_type": "execute_result",
          "data": {
            "text/plain": [
              "               sport  count\n",
              "9      stair climing      3\n",
              "8            pilates      3\n",
              "7       snowboarding      2\n",
              "6           climbing      2\n",
              "3             squash      1\n",
              "2               yoga      1\n",
              "1            sailing      1\n",
              "4  treadmill walking      1\n",
              "5       martial arts      1\n",
              "0       kite surfing      1"
            ],
            "text/html": [
              "\n",
              "  <div id=\"df-88d7a95a-b209-4569-9b26-028f001330c5\">\n",
              "    <div class=\"colab-df-container\">\n",
              "      <div>\n",
              "<style scoped>\n",
              "    .dataframe tbody tr th:only-of-type {\n",
              "        vertical-align: middle;\n",
              "    }\n",
              "\n",
              "    .dataframe tbody tr th {\n",
              "        vertical-align: top;\n",
              "    }\n",
              "\n",
              "    .dataframe thead th {\n",
              "        text-align: right;\n",
              "    }\n",
              "</style>\n",
              "<table border=\"1\" class=\"dataframe\">\n",
              "  <thead>\n",
              "    <tr style=\"text-align: right;\">\n",
              "      <th></th>\n",
              "      <th>sport</th>\n",
              "      <th>count</th>\n",
              "    </tr>\n",
              "  </thead>\n",
              "  <tbody>\n",
              "    <tr>\n",
              "      <th>9</th>\n",
              "      <td>stair climing</td>\n",
              "      <td>3</td>\n",
              "    </tr>\n",
              "    <tr>\n",
              "      <th>8</th>\n",
              "      <td>pilates</td>\n",
              "      <td>3</td>\n",
              "    </tr>\n",
              "    <tr>\n",
              "      <th>7</th>\n",
              "      <td>snowboarding</td>\n",
              "      <td>2</td>\n",
              "    </tr>\n",
              "    <tr>\n",
              "      <th>6</th>\n",
              "      <td>climbing</td>\n",
              "      <td>2</td>\n",
              "    </tr>\n",
              "    <tr>\n",
              "      <th>3</th>\n",
              "      <td>squash</td>\n",
              "      <td>1</td>\n",
              "    </tr>\n",
              "    <tr>\n",
              "      <th>2</th>\n",
              "      <td>yoga</td>\n",
              "      <td>1</td>\n",
              "    </tr>\n",
              "    <tr>\n",
              "      <th>1</th>\n",
              "      <td>sailing</td>\n",
              "      <td>1</td>\n",
              "    </tr>\n",
              "    <tr>\n",
              "      <th>4</th>\n",
              "      <td>treadmill walking</td>\n",
              "      <td>1</td>\n",
              "    </tr>\n",
              "    <tr>\n",
              "      <th>5</th>\n",
              "      <td>martial arts</td>\n",
              "      <td>1</td>\n",
              "    </tr>\n",
              "    <tr>\n",
              "      <th>0</th>\n",
              "      <td>kite surfing</td>\n",
              "      <td>1</td>\n",
              "    </tr>\n",
              "  </tbody>\n",
              "</table>\n",
              "</div>\n",
              "      <button class=\"colab-df-convert\" onclick=\"convertToInteractive('df-88d7a95a-b209-4569-9b26-028f001330c5')\"\n",
              "              title=\"Convert this dataframe to an interactive table.\"\n",
              "              style=\"display:none;\">\n",
              "        \n",
              "  <svg xmlns=\"http://www.w3.org/2000/svg\" height=\"24px\"viewBox=\"0 0 24 24\"\n",
              "       width=\"24px\">\n",
              "    <path d=\"M0 0h24v24H0V0z\" fill=\"none\"/>\n",
              "    <path d=\"M18.56 5.44l.94 2.06.94-2.06 2.06-.94-2.06-.94-.94-2.06-.94 2.06-2.06.94zm-11 1L8.5 8.5l.94-2.06 2.06-.94-2.06-.94L8.5 2.5l-.94 2.06-2.06.94zm10 10l.94 2.06.94-2.06 2.06-.94-2.06-.94-.94-2.06-.94 2.06-2.06.94z\"/><path d=\"M17.41 7.96l-1.37-1.37c-.4-.4-.92-.59-1.43-.59-.52 0-1.04.2-1.43.59L10.3 9.45l-7.72 7.72c-.78.78-.78 2.05 0 2.83L4 21.41c.39.39.9.59 1.41.59.51 0 1.02-.2 1.41-.59l7.78-7.78 2.81-2.81c.8-.78.8-2.07 0-2.86zM5.41 20L4 18.59l7.72-7.72 1.47 1.35L5.41 20z\"/>\n",
              "  </svg>\n",
              "      </button>\n",
              "      \n",
              "  <style>\n",
              "    .colab-df-container {\n",
              "      display:flex;\n",
              "      flex-wrap:wrap;\n",
              "      gap: 12px;\n",
              "    }\n",
              "\n",
              "    .colab-df-convert {\n",
              "      background-color: #E8F0FE;\n",
              "      border: none;\n",
              "      border-radius: 50%;\n",
              "      cursor: pointer;\n",
              "      display: none;\n",
              "      fill: #1967D2;\n",
              "      height: 32px;\n",
              "      padding: 0 0 0 0;\n",
              "      width: 32px;\n",
              "    }\n",
              "\n",
              "    .colab-df-convert:hover {\n",
              "      background-color: #E2EBFA;\n",
              "      box-shadow: 0px 1px 2px rgba(60, 64, 67, 0.3), 0px 1px 3px 1px rgba(60, 64, 67, 0.15);\n",
              "      fill: #174EA6;\n",
              "    }\n",
              "\n",
              "    [theme=dark] .colab-df-convert {\n",
              "      background-color: #3B4455;\n",
              "      fill: #D2E3FC;\n",
              "    }\n",
              "\n",
              "    [theme=dark] .colab-df-convert:hover {\n",
              "      background-color: #434B5C;\n",
              "      box-shadow: 0px 1px 3px 1px rgba(0, 0, 0, 0.15);\n",
              "      filter: drop-shadow(0px 1px 2px rgba(0, 0, 0, 0.3));\n",
              "      fill: #FFFFFF;\n",
              "    }\n",
              "  </style>\n",
              "\n",
              "      <script>\n",
              "        const buttonEl =\n",
              "          document.querySelector('#df-88d7a95a-b209-4569-9b26-028f001330c5 button.colab-df-convert');\n",
              "        buttonEl.style.display =\n",
              "          google.colab.kernel.accessAllowed ? 'block' : 'none';\n",
              "\n",
              "        async function convertToInteractive(key) {\n",
              "          const element = document.querySelector('#df-88d7a95a-b209-4569-9b26-028f001330c5');\n",
              "          const dataTable =\n",
              "            await google.colab.kernel.invokeFunction('convertToInteractive',\n",
              "                                                     [key], {});\n",
              "          if (!dataTable) return;\n",
              "\n",
              "          const docLinkHtml = 'Like what you see? Visit the ' +\n",
              "            '<a target=\"_blank\" href=https://colab.research.google.com/notebooks/data_table.ipynb>data table notebook</a>'\n",
              "            + ' to learn more about interactive tables.';\n",
              "          element.innerHTML = '';\n",
              "          dataTable['output_type'] = 'display_data';\n",
              "          await google.colab.output.renderOutput(dataTable, element);\n",
              "          const docLink = document.createElement('div');\n",
              "          docLink.innerHTML = docLinkHtml;\n",
              "          element.appendChild(docLink);\n",
              "        }\n",
              "      </script>\n",
              "    </div>\n",
              "  </div>\n",
              "  "
            ]
          },
          "metadata": {},
          "execution_count": 103
        }
      ]
    },
    {
      "cell_type": "code",
      "source": [
        "# 2. Sport Categories -- Frequency Distribution\n",
        "dfcount = dfcount.toPandas()\n",
        "dfcount = dfcount.sort_values(by=['count'],ascending=False)\n",
        "plt.figure(figsize=(20,5))\n",
        "_ = plt.plot(dfcount['sport'], dfcount['count'])\n",
        "_ = plt.xticks(rotation = 45)\n",
        "plt.xlabel('Sports')\n",
        "plt.ylabel('Count')\n",
        "plt.title('Frequency Distribution for Sports')"
      ],
      "metadata": {
        "colab": {
          "base_uri": "https://localhost:8080/",
          "height": 439
        },
        "id": "q7EZwUJrrEr8",
        "outputId": "93f9bd76-2880-4cfb-c99e-eb98cd9e94f0"
      },
      "execution_count": 116,
      "outputs": [
        {
          "output_type": "execute_result",
          "data": {
            "text/plain": [
              "Text(0.5, 1.0, 'Frequency Distribution for Sports')"
            ]
          },
          "metadata": {},
          "execution_count": 116
        },
        {
          "output_type": "display_data",
          "data": {
            "text/plain": [
              "<Figure size 1440x360 with 1 Axes>"
            ],
            "image/png": "[encoded data removed]"
          },
          "metadata": {
            "needs_background": "light"
          }
        }
      ]
    },
    {
      "cell_type": "code",
      "source": [
        "# 3. Gender\n",
        "dfgender = dfhr.groupBy(\"gender\").count()\n",
        "dfgender"
      ],
      "metadata": {
        "id": "7ndFjxEHzXQK",
        "colab": {
          "base_uri": "https://localhost:8080/",
          "height": 114
        },
        "outputId": "9c0938b6-16b7-4aea-b4cc-db730803a325"
      },
      "execution_count": 8,
      "outputs": [
        {
          "output_type": "execute_result",
          "data": {
            "text/plain": [
              "+-------+------+\n",
              "| gender| count|\n",
              "+-------+------+\n",
              "|unknown|   906|\n",
              "| female|  9537|\n",
              "|   male|139554|\n",
              "+-------+------+"
            ],
            "text/html": [
              "<table border='1'>\n",
              "<tr><th>gender</th><th>count</th></tr>\n",
              "<tr><td>unknown</td><td>906</td></tr>\n",
              "<tr><td>female</td><td>9537</td></tr>\n",
              "<tr><td>male</td><td>139554</td></tr>\n",
              "</table>\n"
            ]
          },
          "metadata": {},
          "execution_count": 8
        }
      ]
    },
    {
      "cell_type": "code",
      "source": [
        "# Plot gender distribution\n",
        "pdgender = dfgender.toPandas()\n",
        "pdgender = pdgender.set_index('gender')\n",
        "pdgender.plot.pie(y='count', title='Gender Distribution')"
      ],
      "metadata": {
        "id": "jav7I9cn34BD",
        "colab": {
          "base_uri": "https://localhost:8080/",
          "height": 281
        },
        "outputId": "39f2de8f-bfef-4675-e161-48b158cf7064"
      },
      "execution_count": 117,
      "outputs": [
        {
          "output_type": "execute_result",
          "data": {
            "text/plain": [
              "<matplotlib.axes._subplots.AxesSubplot at 0x7f2bbb388410>"
            ]
          },
          "metadata": {},
          "execution_count": 117
        },
        {
          "output_type": "display_data",
          "data": {
            "text/plain": [
              "<Figure size 432x288 with 1 Axes>"
            ],
            "image/png": "[encoded data removed]"
          },
          "metadata": {}
        }
      ]
    },
    {
      "cell_type": "code",
      "source": [
        "# Gendere vs Sport\n",
        "dfinter = dfhr.groupBy(\"sport\", \"gender\").count().toPandas()\n",
        "dfinter.loc[dfinter['gender'] == 'male'].sort_values('count',ascending = False).head(10)\n",
        "dfinter.loc[dfinter['gender'] == 'female'].sort_values('count',ascending = False).head(10)\n",
        "dfmale = dfinter.loc[dfinter['gender'] == 'male']\n",
        "dffemale = dfinter.loc[dfinter['gender'] == 'female']\n",
        "print(dfmale.shape)\n",
        "print(dffemale.shape)"
      ],
      "metadata": {
        "id": "AhWp0Wka5EiW",
        "colab": {
          "base_uri": "https://localhost:8080/"
        },
        "outputId": "ca214101-7b04-492b-c7af-534e904c9a44"
      },
      "execution_count": 20,
      "outputs": [
        {
          "output_type": "stream",
          "name": "stdout",
          "text": [
            "(41, 3)\n",
            "(22, 3)\n"
          ]
        }
      ]
    },
    {
      "cell_type": "code",
      "source": [
        "# 4. Unique userId\n",
        "dfuser = dfhr.groupBy(\"userId\").count()\n",
        "dfuser = dfuser.sort(col(\"count\"))\n",
        "print(dfuser.count())\n",
        "dfuser.tail(10)"
      ],
      "metadata": {
        "id": "7T8cCcJc7nCp",
        "colab": {
          "base_uri": "https://localhost:8080/"
        },
        "outputId": "e7bb2aac-d4c7-49de-d2d6-931a47c7055c"
      },
      "execution_count": 21,
      "outputs": [
        {
          "output_type": "stream",
          "name": "stdout",
          "text": [
            "100317\n"
          ]
        },
        {
          "output_type": "execute_result",
          "data": {
            "text/plain": [
              "[Row(userId='13303518', count=539),\n",
              " Row(userId='890789', count=559),\n",
              " Row(userId='5641621', count=572),\n",
              " Row(userId='791908', count=615),\n",
              " Row(userId='8276277', count=646),\n",
              " Row(userId='14066832', count=770),\n",
              " Row(userId='2486861', count=782),\n",
              " Row(userId='4997910', count=821),\n",
              " Row(userId='804068', count=1003),\n",
              " Row(userId='1063624', count=1261)]"
            ]
          },
          "metadata": {},
          "execution_count": 21
        }
      ]
    },
    {
      "cell_type": "markdown",
      "source": [
        "## EndomondoMeta \n",
        "\n",
        "- The dataset contains 899991 rows and 4 columns\n",
        "- Only `hydration` has 92707 missing entries\n",
        "\n",
        "- `weather`\n",
        "  - There are total of 35 distinct weather type\n",
        "  - The frequency of the occurance of each weather type is unevenly distributed, and highler right skewed\n",
        "- `humidity`\n",
        "  - The mean humidity is 70.65 and standard deviation is 19.45\n",
        "  - The range is 1 - 100\n",
        "  - The distribution is left skewed and reach the peak at around 90\n",
        "- `wind_direction`\n",
        "  - The mean wind_direction is 7.37 and standard deviation is 4.65\n",
        "  - The range is 0 - 15\n",
        "  - The distribution is quite random with noise peaks and trough\n",
        "- `temperature`\n",
        "  - The mean temperature is 13.48 and standard deviation is 8.8\n",
        "  - The range is -27 - 46\n",
        "  - The distribution is relatively normal centered around 13\n",
        "- `wind_speed`\n",
        "  - The mean wind_speed is 14.18 and standard deviation is 9.06\n",
        "  - The range is 0 - 242\n",
        "  - The distribution is higher right skewed with the majority of data concentrated within 0 - 50\n"
      ],
      "metadata": {
        "id": "KEtLg8NgZouq"
      }
    },
    {
      "cell_type": "code",
      "source": [
        "# Endomondo Meta Files\n",
        "meta1 = spark.read.option(\"header\",\"true\").csv(\"/content/gdrive/MyDrive/1.csv\")\n",
        "meta2 = spark.read.option(\"header\",\"true\").csv(\"/content/gdrive/MyDrive/2.csv\")\n",
        "meta3 = spark.read.option(\"header\",\"true\").csv(\"/content/gdrive/MyDrive/3.csv\")\n",
        "meta4 = spark.read.option(\"header\",\"true\").csv(\"/content/gdrive/MyDrive/4.csv\")\n",
        "meta5 = spark.read.option(\"header\",\"true\").csv(\"/content/gdrive/MyDrive/5.csv\")\n",
        "meta6 = spark.read.option(\"header\",\"true\").csv(\"/content/gdrive/MyDrive/6.csv\")\n",
        "meta7 = spark.read.option(\"header\",\"true\").csv(\"/content/gdrive/MyDrive/7.csv\")\n",
        "meta8 = spark.read.option(\"header\",\"true\").csv(\"/content/gdrive/MyDrive/8.csv\")\n",
        "meta9 = spark.read.option(\"header\",\"true\").csv(\"/content/gdrive/MyDrive/9.csv\")\n",
        "dfmeta = meta1.union(meta2).union(meta3).union(meta4).union(meta5).union(meta6).union(meta7).union(meta8).union(meta9)\n",
        "print((dfmeta.count(), len(dfmeta.columns)))"
      ],
      "metadata": {
        "colab": {
          "base_uri": "https://localhost:8080/"
        },
        "id": "ylWRmMS2hV2I",
        "outputId": "bdec28ea-c487-4a21-a156-053f5c8c02d6"
      },
      "execution_count": 27,
      "outputs": [
        {
          "output_type": "stream",
          "name": "stdout",
          "text": [
            "(899991, 4)\n"
          ]
        }
      ]
    },
    {
      "cell_type": "code",
      "source": [
        "dfmeta"
      ],
      "metadata": {
        "colab": {
          "base_uri": "https://localhost:8080/",
          "height": 529
        },
        "id": "CEa1VYr8gtAT",
        "outputId": "d1224227-9687-40ee-f994-85e0231a66b1"
      },
      "execution_count": 28,
      "outputs": [
        {
          "output_type": "execute_result",
          "data": {
            "text/plain": [
              "+---+------------+---------+---------+\n",
              "|_c0|     weather|       id|hydration|\n",
              "+---+------------+---------+---------+\n",
              "|  0| {'type': 7}|322483826|     null|\n",
              "|  1| {'type': 7}|322483840|     null|\n",
              "|  2| {'type': 6}|322483848|     null|\n",
              "|  3| {'type': 1}|322483865|     null|\n",
              "|  4| {'type': 1}|322483880|     null|\n",
              "|  5| {'type': 6}|322483888|     null|\n",
              "|  6| {'type': 3}|322483891|     null|\n",
              "|  7|{'type': 11}|322483910|     null|\n",
              "|  8| {'type': 1}|322483939|     null|\n",
              "|  9|        null|322483942|     null|\n",
              "| 10| {'type': 7}|322483957|     null|\n",
              "| 11| {'type': 3}|322483972|     null|\n",
              "| 12| {'type': 1}|322483979|     null|\n",
              "| 13| {'type': 1}|322483991|     null|\n",
              "| 14| {'type': 1}|322483998|     null|\n",
              "| 15|        null|322484007|     null|\n",
              "| 16|{'type': 11}|322484024|     null|\n",
              "| 17|{'type': 11}|322484033|     null|\n",
              "| 18|{'type': 11}|322484038|     null|\n",
              "| 19|{'type': 11}|322484051|     null|\n",
              "+---+------------+---------+---------+\n",
              "only showing top 20 rows"
            ],
            "text/html": [
              "<table border='1'>\n",
              "<tr><th>_c0</th><th>weather</th><th>id</th><th>hydration</th></tr>\n",
              "<tr><td>0</td><td>{&#x27;type&#x27;: 7}</td><td>322483826</td><td>null</td></tr>\n",
              "<tr><td>1</td><td>{&#x27;type&#x27;: 7}</td><td>322483840</td><td>null</td></tr>\n",
              "<tr><td>2</td><td>{&#x27;type&#x27;: 6}</td><td>322483848</td><td>null</td></tr>\n",
              "<tr><td>3</td><td>{&#x27;type&#x27;: 1}</td><td>322483865</td><td>null</td></tr>\n",
              "<tr><td>4</td><td>{&#x27;type&#x27;: 1}</td><td>322483880</td><td>null</td></tr>\n",
              "<tr><td>5</td><td>{&#x27;type&#x27;: 6}</td><td>322483888</td><td>null</td></tr>\n",
              "<tr><td>6</td><td>{&#x27;type&#x27;: 3}</td><td>322483891</td><td>null</td></tr>\n",
              "<tr><td>7</td><td>{&#x27;type&#x27;: 11}</td><td>322483910</td><td>null</td></tr>\n",
              "<tr><td>8</td><td>{&#x27;type&#x27;: 1}</td><td>322483939</td><td>null</td></tr>\n",
              "<tr><td>9</td><td>null</td><td>322483942</td><td>null</td></tr>\n",
              "<tr><td>10</td><td>{&#x27;type&#x27;: 7}</td><td>322483957</td><td>null</td></tr>\n",
              "<tr><td>11</td><td>{&#x27;type&#x27;: 3}</td><td>322483972</td><td>null</td></tr>\n",
              "<tr><td>12</td><td>{&#x27;type&#x27;: 1}</td><td>322483979</td><td>null</td></tr>\n",
              "<tr><td>13</td><td>{&#x27;type&#x27;: 1}</td><td>322483991</td><td>null</td></tr>\n",
              "<tr><td>14</td><td>{&#x27;type&#x27;: 1}</td><td>322483998</td><td>null</td></tr>\n",
              "<tr><td>15</td><td>null</td><td>322484007</td><td>null</td></tr>\n",
              "<tr><td>16</td><td>{&#x27;type&#x27;: 11}</td><td>322484024</td><td>null</td></tr>\n",
              "<tr><td>17</td><td>{&#x27;type&#x27;: 11}</td><td>322484033</td><td>null</td></tr>\n",
              "<tr><td>18</td><td>{&#x27;type&#x27;: 11}</td><td>322484038</td><td>null</td></tr>\n",
              "<tr><td>19</td><td>{&#x27;type&#x27;: 11}</td><td>322484051</td><td>null</td></tr>\n",
              "</table>\n",
              "only showing top 20 rows\n"
            ]
          },
          "metadata": {},
          "execution_count": 28
        }
      ]
    },
    {
      "cell_type": "code",
      "source": [
        "# reformat weather column such that 'type', 'humidity', 'wind_direction', 'temperature' and 'wind_speed' would have separate columns\n",
        "dfmeta = dfmeta.withColumn(\"weather\", from_json(col(\"weather\"), MapType(StringType(), StringType())))\n",
        "\n",
        "# remove null values in dataframe\n",
        "dfmeta_cleaned = a.withColumn(\"type\",a.weather.getItem(\"type\")) \\\n",
        "  .withColumn('humidity',a.weather.getItem('humidity')) \\\n",
        "  .withColumn('wind_direction',a.weather.getItem('wind_direction')) \\\n",
        "  .withColumn('temperature',a.weather.getItem('temperature')) \\\n",
        "    .withColumn('wind_speed',a.weather.getItem('wind_speed')) \\\n",
        "  .drop(\"weather\").na.drop(subset=['type','humidity','wind_direction','temperature','wind_speed']) \n",
        "dfmeta_cleaned.show()"
      ],
      "metadata": {
        "colab": {
          "base_uri": "https://localhost:8080/"
        },
        "id": "U0_F_u2nj8BL",
        "outputId": "cff745d7-22a3-45fd-d4d7-a65bc03f102b"
      },
      "execution_count": 50,
      "outputs": [
        {
          "output_type": "stream",
          "name": "stdout",
          "text": [
            "+----+---------+---------+----+--------+--------------+-----------+----------+\n",
            "| _c0|       id|hydration|type|humidity|wind_direction|temperature|wind_speed|\n",
            "+----+---------+---------+----+--------+--------------+-----------+----------+\n",
            "|8523|347450729|     null|  12|      88|             0|         10|         7|\n",
            "|8524|347450725|     null|   3|      81|            14|         13|        14|\n",
            "|8525|347452200|     null|   6|      81|            15|         12|        11|\n",
            "|8526|347452198|     null|   4|      61|             0|         13|         1|\n",
            "|8528|340648008|     null|   7|      77|             8|         20|         7|\n",
            "|8529|340648020|     null|   7|      68|             9|         14|        14|\n",
            "|8530|340648002|     null|   7|      66|             1|          7|        23|\n",
            "|8532|339099545|     null|   6|      23|             1|         16|         7|\n",
            "|8533|339099590|     null|   4|      73|            14|          5|         9|\n",
            "|8534|339099628|     null|   7|      76|             8|         11|         7|\n",
            "|8535|339099568|     null|   7|      70|             8|          9|         7|\n",
            "|8536|339099484|     null|   7|      81|             0|          5|        16|\n",
            "|8537|339099638|     null|   7|      76|             1|          6|         5|\n",
            "|8538|339099521|     null|   3|      33|            15|         12|        23|\n",
            "|8539|339099507|     null|   7|      94|            12|         10|         3|\n",
            "|8540|339099611|     null|   7|      50|             6|          8|         7|\n",
            "|8541|339099424|     null|   6|      84|            14|          5|         9|\n",
            "|8542|339096552|     null|   7|      22|             8|         10|        11|\n",
            "|8543|324582335|     null|   3|      38|            11|          0|         5|\n",
            "|8544|324582457|     null|   7|      92|             7|         14|         5|\n",
            "+----+---------+---------+----+--------+--------------+-----------+----------+\n",
            "only showing top 20 rows\n",
            "\n"
          ]
        }
      ]
    },
    {
      "cell_type": "code",
      "source": [
        "# 1. Overall missingness\n",
        "dfmeta_cleaned.select([count(when(isnan(c) | col(c).isNull(), c)).alias(c) for c in dfmeta_cleaned.columns]).show()"
      ],
      "metadata": {
        "colab": {
          "base_uri": "https://localhost:8080/"
        },
        "id": "0iEBnPJBtF7N",
        "outputId": "533bf7d6-e147-478d-db66-b40168e68517"
      },
      "execution_count": 105,
      "outputs": [
        {
          "output_type": "stream",
          "name": "stdout",
          "text": [
            "+---+---+---------+----+--------+--------------+-----------+----------+\n",
            "|_c0| id|hydration|type|humidity|wind_direction|temperature|wind_speed|\n",
            "+---+---+---------+----+--------+--------------+-----------+----------+\n",
            "|  0|  0|    92707|   0|       0|             0|          0|         0|\n",
            "+---+---+---------+----+--------+--------------+-----------+----------+\n",
            "\n"
          ]
        }
      ]
    },
    {
      "cell_type": "code",
      "source": [
        "# 2. weather type -- Unique Type\n",
        "metatype = dfmeta_cleaned.groupBy(\"type\").count()\n",
        "metatype = metatype.sort(col(\"count\"))\n",
        "print('Number of unique weather type: '+ str(metatype.count()))"
      ],
      "metadata": {
        "colab": {
          "base_uri": "https://localhost:8080/"
        },
        "id": "vOnzxA6xfevm",
        "outputId": "87ff6d18-8e5f-4360-cbd9-564dee300a4a"
      },
      "execution_count": 55,
      "outputs": [
        {
          "output_type": "stream",
          "name": "stdout",
          "text": [
            "Number of unique weather type: 35\n"
          ]
        }
      ]
    },
    {
      "cell_type": "code",
      "source": [
        "# 2. weather type -- Frequency Distribution\n",
        "import matplotlib.pyplot as plt\n",
        "pdtype = metatype.toPandas()\n",
        "pdtype['type'] = pdtype['type'].astype('category')\n",
        "pdtype = pdtype.sort_values(by=['count'],ascending=False)\n",
        "plt.figure(figsize=(10,5))\n",
        "plt.plot(pdtype['type'], pdtype['count'])\n",
        "plt.xlabel('Weather Type')\n",
        "plt.ylabel('Count')\n",
        "plt.title('Weather Type Distribution')"
      ],
      "metadata": {
        "colab": {
          "base_uri": "https://localhost:8080/",
          "height": 367
        },
        "id": "9sKQREKmmYaj",
        "outputId": "4d3581a5-049c-47f0-965a-f67387aeba36"
      },
      "execution_count": 118,
      "outputs": [
        {
          "output_type": "execute_result",
          "data": {
            "text/plain": [
              "Text(0.5, 1.0, 'Weather Type Distribution')"
            ]
          },
          "metadata": {},
          "execution_count": 118
        },
        {
          "output_type": "display_data",
          "data": {
            "text/plain": [
              "<Figure size 720x360 with 1 Axes>"
            ],
            "image/png": "[encoded data removed]"
          },
          "metadata": {
            "needs_background": "light"
          }
        }
      ]
    },
    {
      "cell_type": "code",
      "source": [
        "# 3. humidity\n",
        "\n",
        "## calculate general statistics\n",
        "dfmeta_cleaned = dfmeta_cleaned.withColumn(\"humidity\", dfmeta_cleaned[\"humidity\"].cast(IntegerType()))\n",
        "hum_stats = dfmeta_cleaned.select(\n",
        "    _mean(col('humidity')).alias('mean'),\n",
        "    _stddev(col('humidity')).alias('std'),\n",
        "    _max(col('humidity')).alias('max'), \n",
        "    _min(col('humidity')).alias('min')\n",
        ").collect()\n",
        "\n",
        "mean = hum_stats[0]['mean']\n",
        "std = hum_stats[0]['std']\n",
        "print('Mean humididty is '+ str(round(mean,2))+' and standard deviation is '+ str(round(std,2)))\n",
        "maxi = hum_stats[0]['max']\n",
        "mini = hum_stats[0]['min']\n",
        "print('The range is '+ str(mini)+' - '+ str(maxi))\n",
        "\n",
        "# plot histogram\n",
        "fig, ax = plt.subplots()\n",
        "hist(ax, dfmeta_cleaned.select('humidity'), bins = 20)\n",
        "ax.set_xlabel('Humidity')\n",
        "ax.set_ylabel('Count')\n",
        "ax.set_title('Humidity Distribution')"
      ],
      "metadata": {
        "id": "83Sx-F9s-WKC",
        "colab": {
          "base_uri": "https://localhost:8080/",
          "height": 347
        },
        "outputId": "9390eca9-d72d-42e6-cba2-17e7e5bcc995"
      },
      "execution_count": 129,
      "outputs": [
        {
          "output_type": "stream",
          "name": "stdout",
          "text": [
            "Mean humididty is 70.65 and standard deviation is 19.45\n",
            "The range is 1 - 100\n"
          ]
        },
        {
          "output_type": "execute_result",
          "data": {
            "text/plain": [
              "Text(0.5, 1.0, 'Humidity Distribution')"
            ]
          },
          "metadata": {},
          "execution_count": 129
        },
        {
          "output_type": "display_data",
          "data": {
            "text/plain": [
              "<Figure size 432x288 with 1 Axes>"
            ],
            "image/png": "[encoded data removed]"
          },
          "metadata": {
            "needs_background": "light"
          }
        }
      ]
    },
    {
      "cell_type": "code",
      "source": [
        "# 4. wind_direction\n",
        "\n",
        "## calculate general statistics\n",
        "dfmeta_cleaned = dfmeta_cleaned.withColumn(\"wind_direction\", dfmeta_cleaned[\"wind_direction\"].cast(IntegerType()))\n",
        "hum_stats = dfmeta_cleaned.select(\n",
        "    _mean(col('wind_direction')).alias('mean'),\n",
        "    _stddev(col('wind_direction')).alias('std'),\n",
        "    _max(col('wind_direction')).alias('max'), \n",
        "    _min(col('wind_direction')).alias('min')\n",
        ").collect()\n",
        "\n",
        "mean = hum_stats[0]['mean']\n",
        "std = hum_stats[0]['std']\n",
        "print('Mean wind_direction is '+ str(round(mean,2))+' and standard deviation is '+ str(round(std,2)))\n",
        "maxi = hum_stats[0]['max']\n",
        "mini = hum_stats[0]['min']\n",
        "print('The range is '+ str(mini)+' - '+ str(maxi))\n",
        "\n",
        "# plot histogram\n",
        "fig, ax = plt.subplots()\n",
        "hist(ax, dfmeta_cleaned.select('wind_direction'), bins = 10)\n",
        "ax.set_xlabel('Wind Direction')\n",
        "ax.set_ylabel('Count')\n",
        "ax.set_title('Wind Direction Distribution')"
      ],
      "metadata": {
        "id": "amJ-L3ss1GJO",
        "colab": {
          "base_uri": "https://localhost:8080/",
          "height": 347
        },
        "outputId": "a4a99e54-7d41-478f-e3f8-b79207b24037"
      },
      "execution_count": 130,
      "outputs": [
        {
          "output_type": "stream",
          "name": "stdout",
          "text": [
            "Mean wind_direction is 7.37 and standard deviation is 4.65\n",
            "The range is 0 - 15\n"
          ]
        },
        {
          "output_type": "execute_result",
          "data": {
            "text/plain": [
              "Text(0.5, 1.0, 'Wind Direction Distribution')"
            ]
          },
          "metadata": {},
          "execution_count": 130
        },
        {
          "output_type": "display_data",
          "data": {
            "text/plain": [
              "<Figure size 432x288 with 1 Axes>"
            ],
            "image/png": "[encoded data removed]"
          },
          "metadata": {
            "needs_background": "light"
          }
        }
      ]
    },
    {
      "cell_type": "code",
      "source": [
        "# 5. temperature\n",
        "\n",
        "## calculate general statistics\n",
        "dfmeta_cleaned = dfmeta_cleaned.withColumn(\"temperature\", dfmeta_cleaned[\"temperature\"].cast(IntegerType()))\n",
        "hum_stats = dfmeta_cleaned.select(\n",
        "    _mean(col('temperature')).alias('mean'),\n",
        "    _stddev(col('temperature')).alias('std'), \n",
        "    _max(col('temperature')).alias('max'), \n",
        "    _min(col('temperature')).alias('min')\n",
        ").collect()\n",
        "\n",
        "mean = hum_stats[0]['mean']\n",
        "std = hum_stats[0]['std']\n",
        "maxi = hum_stats[0]['max']\n",
        "mini = hum_stats[0]['min']\n",
        "print('Mean temperature is '+ str(round(mean,2))+' and standard deviation is '+ str(round(std,2)))\n",
        "print('The range is '+ str(mini)+' - '+ str(maxi))\n",
        "\n",
        "# plot histogram\n",
        "fig, ax = plt.subplots()\n",
        "hist(ax, dfmeta_cleaned.select('temperature'), bins = 10)\n",
        "ax.set_xlabel('Temperature')\n",
        "ax.set_ylabel('Count')\n",
        "ax.set_title('Temperature Distribution')"
      ],
      "metadata": {
        "id": "k6Qo4xobeWDK",
        "colab": {
          "base_uri": "https://localhost:8080/",
          "height": 347
        },
        "outputId": "591092df-3c98-4f90-b00c-cc1368a51797"
      },
      "execution_count": 128,
      "outputs": [
        {
          "output_type": "stream",
          "name": "stdout",
          "text": [
            "Mean temperature is 13.48 and standard deviation is 8.8\n",
            "The range is -27 - 46\n"
          ]
        },
        {
          "output_type": "execute_result",
          "data": {
            "text/plain": [
              "Text(0.5, 1.0, 'Temperature Distribution')"
            ]
          },
          "metadata": {},
          "execution_count": 128
        },
        {
          "output_type": "display_data",
          "data": {
            "text/plain": [
              "<Figure size 432x288 with 1 Axes>"
            ],
            "image/png": "[encoded data removed]"
          },
          "metadata": {
            "needs_background": "light"
          }
        }
      ]
    },
    {
      "cell_type": "code",
      "source": [
        "# 6. wind_speed\n",
        "\n",
        "## calculate general statistics\n",
        "dfmeta_cleaned = dfmeta_cleaned.withColumn(\"wind_speed\", dfmeta_cleaned[\"wind_speed\"].cast(IntegerType()))\n",
        "hum_stats = dfmeta_cleaned.select(\n",
        "    _mean(col('wind_speed')).alias('mean'),\n",
        "    _stddev(col('wind_speed')).alias('std'), \n",
        "    _max(col('wind_speed')).alias('max'), \n",
        "    _min(col('wind_speed')).alias('min')\n",
        ").collect()\n",
        "\n",
        "mean = hum_stats[0]['mean']\n",
        "std = hum_stats[0]['std']\n",
        "maxi = hum_stats[0]['max']\n",
        "mini = hum_stats[0]['min']\n",
        "print('Mean wind_speed is '+ str(round(mean,2))+' and standard deviation is '+ str(round(std,2)))\n",
        "print('The range is '+ str(mini)+' - '+ str(maxi))\n",
        "\n",
        "# plot histogram\n",
        "fig, ax = plt.subplots()\n",
        "hist(ax, dfmeta_cleaned.select('wind_speed'), bins = 5)\n",
        "ax.set_xlabel('Wind Speed')\n",
        "ax.set_ylabel('Count')\n",
        "ax.set_title('Wind Speed Distribution')"
      ],
      "metadata": {
        "id": "zx5MY4o9mA1S",
        "colab": {
          "base_uri": "https://localhost:8080/",
          "height": 347
        },
        "outputId": "71eba264-8d3e-4f56-f671-5ff27c38b936"
      },
      "execution_count": 131,
      "outputs": [
        {
          "output_type": "stream",
          "name": "stdout",
          "text": [
            "Mean wind_speed is 14.18 and standard deviation is 9.06\n",
            "The range is 0 - 242\n"
          ]
        },
        {
          "output_type": "execute_result",
          "data": {
            "text/plain": [
              "Text(0.5, 1.0, 'Wind Speed Distribution')"
            ]
          },
          "metadata": {},
          "execution_count": 131
        },
        {
          "output_type": "display_data",
          "data": {
            "text/plain": [
              "<Figure size 432x288 with 1 Axes>"
            ],
            "image/png": "[encoded data removed]"
          },
          "metadata": {
            "needs_background": "light"
          }
        }
      ]
    },
    {
      "cell_type": "markdown",
      "source": [
        "# Correlation Between Variables"
      ],
      "metadata": {
        "id": "2mL0v5hR0r8i"
      }
    },
    {
      "cell_type": "code",
      "source": [
        "from pyspark.ml.stat import Correlation\n",
        "from pyspark.ml.feature import VectorAssembler\n",
        "from pyspark.sql.types import StringType\n",
        "\n",
        "df_corr = dfmeta_cleaned.drop('_c0').drop('id').drop('hydration').drop('type')\n",
        "\n",
        "# convert to vector column first\n",
        "vector_col = \"corr_features\"\n",
        "assembler = VectorAssembler(inputCols=df_corr.columns, outputCol=vector_col)\n",
        "df_vector = assembler.transform(df_corr).select(vector_col)\n",
        "\n",
        "# get correlation matrix\n",
        "matrix = Correlation.corr(df_vector, vector_col)"
      ],
      "metadata": {
        "id": "6Ph3zKSS-Xmt"
      },
      "execution_count": 141,
      "outputs": []
    },
    {
      "cell_type": "code",
      "source": [
        "matrix.collect()[0][\"pearson({})\".format(vector_col)].values"
      ],
      "metadata": {
        "id": "vghXY8v6YaVR",
        "colab": {
          "base_uri": "https://localhost:8080/"
        },
        "outputId": "ce84d0a7-069a-4ad2-d716-47333be28e09"
      },
      "execution_count": 140,
      "outputs": [
        {
          "output_type": "execute_result",
          "data": {
            "text/plain": [
              "array([ 1.        , -0.02388729, -0.44229542, -0.08470432, -0.02388729,\n",
              "        1.        , -0.02034318,  0.28573683, -0.44229542, -0.02034318,\n",
              "        1.        , -0.09387922, -0.08470432,  0.28573683, -0.09387922,\n",
              "        1.        ])"
            ]
          },
          "metadata": {},
          "execution_count": 140
        }
      ]
    },
    {
      "cell_type": "code",
      "source": [],
      "metadata": {
        "id": "rNV7RQ_F07kg"
      },
      "execution_count": 143,
      "outputs": []
    },
    {
      "cell_type": "code",
      "source": [],
      "metadata": {
        "id": "V3tnS1T6XlqT"
      },
      "execution_count": null,
      "outputs": []
    },
    {
      "cell_type": "code",
      "source": [],
      "metadata": {
        "id": "upQa02qPUV9o"
      },
      "execution_count": null,
      "outputs": []
    }
  ]
}