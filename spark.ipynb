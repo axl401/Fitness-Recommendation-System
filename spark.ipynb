{
  "nbformat": 4,
  "nbformat_minor": 0,
  "metadata": {
    "colab": {
      "name": "spark.ipynb",
      "provenance": [],
      "collapsed_sections": []
    },
    "kernelspec": {
      "name": "python3",
      "display_name": "Python 3"
    },
    "language_info": {
      "name": "python"
    },
    "gpuClass": "standard"
  },
  "cells": [
    {
      "cell_type": "code",
      "source": [
        "# Link Google Drive\n",
        "from google.colab import drive\n",
        "drive.mount('/content/drive')"
      ],
      "metadata": {
        "colab": {
          "base_uri": "https://localhost:8080/"
        },
        "id": "vivi7cY7xjqr",
        "outputId": "494ab31e-b1b5-4209-a00c-a9e005c27781"
      },
      "execution_count": 1,
      "outputs": [
        {
          "output_type": "stream",
          "name": "stdout",
          "text": [
            "Mounted at /content/drive\n"
          ]
        }
      ]
    },
    {
      "cell_type": "code",
      "source": [
        "# innstall java\n",
        "!apt-get install openjdk-8-jdk-headless -qq > /dev/null\n",
        "# install spark (change the version number if needed)\n",
        "!wget -q http://archive.apache.org/dist/spark/spark-3.1.1/spark-3.1.1-bin-hadoop3.2.tgz\n",
        "# unzip the spark file to the current folder\n",
        "!tar xf spark-3.1.1-bin-hadoop3.2.tgz\n",
        "!pip install -q findspark\n",
        "# set your spark folder to your system path environment. \n",
        "import os\n",
        "os.environ[\"JAVA_HOME\"] = \"/usr/lib/jvm/java-8-openjdk-amd64\"\n",
        "os.environ[\"SPARK_HOME\"] = \"/content/spark-3.1.1-bin-hadoop3.2\""
      ],
      "metadata": {
        "id": "8leNUTV7_LGu"
      },
      "execution_count": 11,
      "outputs": []
    },
    {
      "cell_type": "code",
      "source": [
        "\n",
        "# install findspark using pip\n",
        "!pip install -q findspark\n",
        "!pip install pyspark"
      ],
      "metadata": {
        "colab": {
          "base_uri": "https://localhost:8080/",
          "height": 375
        },
        "id": "r3FF1aqe9s_g",
        "outputId": "bd1d5056-90f4-4b5f-bc32-939cab26d53d"
      },
      "execution_count": 12,
      "outputs": [
        {
          "output_type": "stream",
          "name": "stdout",
          "text": [
            "Looking in indexes: https://pypi.org/simple, https://us-python.pkg.dev/colab-wheels/public/simple/\n",
            "Collecting pyspark\n",
            "  Downloading pyspark-3.3.0.tar.gz (281.3 MB)\n",
            "\u001b[K     |████████████████████████████████| 281.3 MB 45 kB/s \n",
            "\u001b[?25hCollecting py4j==0.10.9.5\n",
            "  Downloading py4j-0.10.9.5-py2.py3-none-any.whl (199 kB)\n",
            "\u001b[K     |████████████████████████████████| 199 kB 56.4 MB/s \n",
            "\u001b[?25hBuilding wheels for collected packages: pyspark\n",
            "  Building wheel for pyspark (setup.py) ... \u001b[?25l\u001b[?25hdone\n",
            "  Created wheel for pyspark: filename=pyspark-3.3.0-py2.py3-none-any.whl size=281764026 sha256=bcc91a32e62dd1de269e482e7aad05ee60e249711487c6156c03b1fbfa99c984\n",
            "  Stored in directory: /root/.cache/pip/wheels/7a/8e/1b/f73a52650d2e5f337708d9f6a1750d451a7349a867f928b885\n",
            "Successfully built pyspark\n",
            "Installing collected packages: py4j, pyspark\n",
            "Successfully installed py4j-0.10.9.5 pyspark-3.3.0\n"
          ]
        },
        {
          "output_type": "display_data",
          "data": {
            "application/vnd.colab-display-data+json": {
              "pip_warning": {
                "packages": [
                  "py4j",
                  "pyspark"
                ]
              }
            }
          },
          "metadata": {}
        }
      ]
    },
    {
      "cell_type": "code",
      "source": [
        "# Initialize spark session\n",
        "import findspark\n",
        "findspark.init()\n",
        "from pyspark.sql import SparkSession\n",
        "spark = SparkSession.builder.master(\"local[*]\").getOrCreate()\n",
        "spark.conf.set(\"spark.sql.repl.eagerEval.enabled\", True) # Property used to format output tables better\n",
        "spark"
      ],
      "metadata": {
        "colab": {
          "base_uri": "https://localhost:8080/",
          "height": 221
        },
        "id": "K_ftx6qCx5wf",
        "outputId": "dec97ec6-b81f-46a7-b20f-3af6bfd75260"
      },
      "execution_count": 13,
      "outputs": [
        {
          "output_type": "execute_result",
          "data": {
            "text/plain": [
              "<pyspark.sql.session.SparkSession at 0x7fec59162f50>"
            ],
            "text/html": [
              "\n",
              "            <div>\n",
              "                <p><b>SparkSession - in-memory</b></p>\n",
              "                \n",
              "        <div>\n",
              "            <p><b>SparkContext</b></p>\n",
              "\n",
              "            <p><a href=\"http://42481c62b5a2:4040\">Spark UI</a></p>\n",
              "\n",
              "            <dl>\n",
              "              <dt>Version</dt>\n",
              "                <dd><code>v3.1.1</code></dd>\n",
              "              <dt>Master</dt>\n",
              "                <dd><code>local[*]</code></dd>\n",
              "              <dt>AppName</dt>\n",
              "                <dd><code>pyspark-shell</code></dd>\n",
              "            </dl>\n",
              "        </div>\n",
              "        \n",
              "            </div>\n",
              "        "
            ]
          },
          "metadata": {},
          "execution_count": 13
        }
      ]
    },
    {
      "cell_type": "code",
      "source": [
        "# package Needed\n",
        "import pandas as pd\n",
        "import numpy as np"
      ],
      "metadata": {
        "id": "83Sx-F9s-WKC"
      },
      "execution_count": 14,
      "outputs": []
    },
    {
      "cell_type": "code",
      "source": [
        "# read DataFrame\n",
        "from pyspark.sql import *\n",
        "path = '/content/drive/MyDrive/healthdata'\n",
        "sdf = spark.read.option(\"header\",True).csv(path)"
      ],
      "metadata": {
        "id": "amJ-L3ss1GJO"
      },
      "execution_count": 15,
      "outputs": []
    },
    {
      "cell_type": "code",
      "source": [
        "sdf.head(10)"
      ],
      "metadata": {
        "colab": {
          "base_uri": "https://localhost:8080/"
        },
        "id": "losXuI-yGnNt",
        "outputId": "94ed2bfb-e33d-40aa-c75f-c3866f3bfcca"
      },
      "execution_count": 16,
      "outputs": [
        {
          "output_type": "execute_result",
          "data": {
            "text/plain": [
              "[Row(_c0='0', weather=\"{'type': 1, 'humidity': 77, 'wind_direction': 0, 'temperature': 20, 'wind_speed': 11}\", id='206052367', hydration=None),\n",
              " Row(_c0='1', weather=\"{'type': 4, 'humidity': 72, 'wind_direction': 0, 'temperature': 21, 'wind_speed': 12}\", id='206052395', hydration=None),\n",
              " Row(_c0='2', weather=\"{'type': 7, 'humidity': 88, 'wind_direction': 10, 'temperature': 21, 'wind_speed': 12}\", id='205571514', hydration=None),\n",
              " Row(_c0='3', weather=None, id='205423460', hydration='0.0'),\n",
              " Row(_c0='4', weather=\"{'type': 1, 'humidity': 56, 'wind_direction': 3, 'temperature': 21, 'wind_speed': 9}\", id='205157452', hydration=None),\n",
              " Row(_c0='5', weather=\"{'type': 1, 'humidity': 49, 'wind_direction': 13, 'temperature': 22, 'wind_speed': 11}\", id='204946831', hydration=None),\n",
              " Row(_c0='6', weather=\"{'type': 4, 'humidity': 59, 'wind_direction': 13, 'temperature': 19, 'wind_speed': 16}\", id='204396350', hydration=None),\n",
              " Row(_c0='7', weather=\"{'type': 6, 'humidity': 82, 'wind_direction': 10, 'temperature': 14, 'wind_speed': 29}\", id='204041350', hydration=None),\n",
              " Row(_c0='8', weather=\"{'type': 6, 'humidity': 76, 'wind_direction': 10, 'temperature': 15, 'wind_speed': 27}\", id='204041362', hydration=None),\n",
              " Row(_c0='9', weather=\"{'type': 16, 'humidity': 71, 'wind_direction': 8, 'temperature': 15, 'wind_speed': 29}\", id='203876509', hydration=None)]"
            ]
          },
          "metadata": {},
          "execution_count": 16
        }
      ]
    },
    {
      "cell_type": "code",
      "source": [
        "# change type of column\n",
        "from pyspark.sql.functions import *\n",
        "from pyspark.sql.types import *\n",
        "sdf= sdf.withColumn(\"weather\", from_json(col(\"weather\"), MapType(StringType(), StringType())))"
      ],
      "metadata": {
        "id": "vvmtd4ZcGnca"
      },
      "execution_count": 17,
      "outputs": []
    },
    {
      "cell_type": "code",
      "source": [
        "# remove null values in dataframe\n",
        "sdf_cleaned = sdf.withColumn(\"type\",sdf.weather.getItem(\"type\")) \\\n",
        "  .withColumn('humidity',sdf.weather.getItem('humidity')) \\\n",
        "  .withColumn('wind_direction',sdf.weather.getItem('wind_direction')) \\\n",
        "  .withColumn('temperature',sdf.weather.getItem('temperature')) \\\n",
        "    .withColumn('wind_speed',sdf.weather.getItem('wind_speed')) \\\n",
        "  .drop(\"weather\").na.drop(subset=['type','humidity','wind_direction','temperature','wind_speed']) \n",
        "sdf_cleaned.show()"
      ],
      "metadata": {
        "colab": {
          "base_uri": "https://localhost:8080/"
        },
        "id": "QL2HVBDHGnXc",
        "outputId": "417c04e2-022c-4579-c9a7-a2c6a181eec1"
      },
      "execution_count": 18,
      "outputs": [
        {
          "output_type": "stream",
          "name": "stdout",
          "text": [
            "+---+---------+---------+----+--------+--------------+-----------+----------+\n",
            "|_c0|       id|hydration|type|humidity|wind_direction|temperature|wind_speed|\n",
            "+---+---------+---------+----+--------+--------------+-----------+----------+\n",
            "|  0|206052367|     null|   1|      77|             0|         20|        11|\n",
            "|  1|206052395|     null|   4|      72|             0|         21|        12|\n",
            "|  2|205571514|     null|   7|      88|            10|         21|        12|\n",
            "|  4|205157452|     null|   1|      56|             3|         21|         9|\n",
            "|  5|204946831|     null|   1|      49|            13|         22|        11|\n",
            "|  6|204396350|     null|   4|      59|            13|         19|        16|\n",
            "|  7|204041350|     null|   6|      82|            10|         14|        29|\n",
            "|  8|204041362|     null|   6|      76|            10|         15|        27|\n",
            "|  9|203876509|     null|  16|      71|             8|         15|        29|\n",
            "| 10|203492477|     null|   4|      72|             7|         16|        16|\n",
            "| 11|203492489|     null|  13|      72|             8|         22|        18|\n",
            "| 13|201986039|     null|   6|      62|            12|         18|        18|\n",
            "| 14|201844275|     null|   6|      81|            12|         13|         7|\n",
            "| 15|201107376|     null|   3|      63|            13|         20|        14|\n",
            "| 16|200698801|     null|   6|      76|            14|         14|        20|\n",
            "| 17|200698807|     null|   3|      67|            14|         15|        22|\n",
            "| 18|200698844|     null|   3|      67|            14|         15|        22|\n",
            "| 19|200698842|     null|   3|      67|            14|         15|        22|\n",
            "| 21|200698815|     null|   6|      67|            13|         16|        22|\n",
            "| 23|200698825|     null|   6|      67|            12|         15|        20|\n",
            "+---+---------+---------+----+--------+--------------+-----------+----------+\n",
            "only showing top 20 rows\n",
            "\n"
          ]
        }
      ]
    },
    {
      "cell_type": "code",
      "source": [
        "# read cleaned one\n",
        "path_pro = '/content/drive/MyDrive/healthdatapro'\n",
        "df = spark.read.option(\"header\",True).csv(path_pro)"
      ],
      "metadata": {
        "id": "sSV5wL88Gngk"
      },
      "execution_count": 19,
      "outputs": []
    },
    {
      "cell_type": "code",
      "source": [
        "#merge dataframe\n",
        "final_df = df.join(sdf_cleaned,df.id ==  sdf.id,\"inner\").drop(df.id)"
      ],
      "metadata": {
        "id": "-KlNUkKEGnlB"
      },
      "execution_count": 20,
      "outputs": []
    },
    {
      "cell_type": "code",
      "source": [
        "final_df.show()"
      ],
      "metadata": {
        "colab": {
          "base_uri": "https://localhost:8080/"
        },
        "id": "ABKOI6-IGnps",
        "outputId": "cb298eb6-2732-44c6-bfe6-1c8378ce6d9b"
      },
      "execution_count": 12,
      "outputs": [
        {
          "output_type": "stream",
          "name": "stdout",
          "text": [
            "+-----+--------------------+--------------------+--------------------+--------------------+--------------------+------+--------------------+--------------------+--------------------+--------------------+-----+---------+---------+----+--------+--------------+-----------+----------+\n",
            "|  _c0|           longitude|            altitude|            latitude|               sport|          heart_rate|gender|           timestamp|                 url|              userId|               speed|  _c0|       id|hydration|type|humidity|wind_direction|temperature|wind_speed|\n",
            "+-----+--------------------+--------------------+--------------------+--------------------+--------------------+------+--------------------+--------------------+--------------------+--------------------+-----+---------+---------+----+--------+--------------+-----------+----------+\n",
            "|49449|[10.1940886, 10.1...|[0.0, 0.0, 0.0, 0...|[56.1326437, 56.1...|                 run|[123, 123, 123, 1...|  male|https://www.endom...|             2484395|[1351969475, 1351...|                null|22910|108799137|     null|   3|      89|             9|          8|        16|\n",
            "|24095|[20.2725612, 20.2...|[495.6, 496.0, 49...|[67.8380757, 67.8...|cross-country skiing|[111, 111, 111, 1...|  male|[1357576124, 1357...|https://www.endom...|             8276277|                null|50642|156861290|     null|  33|      92|            10|         -5|        16|\n",
            "|37526|[10.6020081, 10.6...|[618.4, 618.4, 61...|[60.26141, 60.261...|cross-country skiing|[102, 108, 114, 1...|  male|https://www.endom...|             1956196|[1359818493, 1359...|                null|42544|157801456|     null|   4|      53|            14|         -9|        33|\n",
            "|42929|[12.2931501, 12.2...|[17.4, 17.4, 17.4...|[55.6639334, 55.6...|                 run|[83, 83, 86, 88, ...|  male|https://www.endom...|              762872|[1360108000, 1360...|                null| 4967|158158354|     null|   3|      86|            10|          2|        14|\n",
            "|37508|[10.6474993284791...|[50.4, 50.4, 48.4...|[59.6611873246729...|                 run|[55, 54, 67, 75, ...|  male|https://www.endom...|             1956196|[1362840897, 1362...|                null|42511|166725302|     null|   1|      79|             0|         -7|         5|\n",
            "|14313|[11.0938409529626...|[22.0, 22.6, 22.6...|[55.6489438656717...|                bike|[91, 94, 100, 102...|  male|[1366376085, 1366...|https://www.endom...|              804068|                null|34865|178871907|     null|   2|      82|            10|          6|        29|\n",
            "|35731|[24.6509917, 24.6...|[10.0, 10.0, 10.0...|[60.1476198, 60.1...|                walk|[90, 90, 90, 91, ...|  male|https://www.endom...|              501555|[1367686176, 1367...|                null|21188|185137509|     null|   1|      43|             9|         11|        12|\n",
            "|38605|[25.339401, 25.33...|[79.2, 80.0, 77.4...|[54.7237394, 54.7...|       mountain bike|[109, 113, 118, 1...|  male|https://www.endom...|             6493363|[1370710622, 1370...|                null|25519|204499899|     null|   1|      52|             0|         20|         7|\n",
            "|20431|[12.6345747, 12.6...|[23.2, 23.2, 23.2...|[55.6452689, 55.6...|                 run|[85, 86, 88, 89, ...|  male|https://www.endom...|                2358|[1371908803, 1371...|                null| 5827|206534281|     null|   7|      87|            10|         16|        22|\n",
            "|15304|[12.5577716901898...|[14.2, 14.4, 14.4...|[55.7560058310627...|                 run|[99, 99, 104, 104...|  male|https://www.endom...|             3709276|[1372606174, 1372...|                null|87704|209981820|     null|   6|      71|            12|         13|        27|\n",
            "|18903|[19.1056944, 19.1...|[122.2, 122.2, 12...|[47.529809, 47.52...|                 run|[112, 112, 115, 1...|female|[1372692079, 1372...|https://www.endom...|              775277|                null|13120|210201591|     null|   3|      48|            15|         18|        16|\n",
            "|36028|[9.3316212, 9.331...|[19.0, 19.0, 19.0...|[56.381128, 56.38...|                 run|[99, 99, 100, 104...|  male|https://www.endom...|              604703|[1375749805, 1375...|                null|99933|226403749|     null|   1|      36|             7|         26|        18|\n",
            "|42798|[12.08845, 12.089...|[36.415, 35.359, ...|[55.835902, 55.83...|                bike|[99, 107, 104, 11...|  male|[1377341797, 1377...|https://www.endom...|              336611|                null|27787|235386618|     null|  35|      86|             6|         12|         8|\n",
            "| 4898|[12.4272211, 12.4...|[41.0, 41.0, 41.6...|[55.9726706, 55.9...|                 run|[65, 71, 71, 79, ...|  male|https://www.endom...|             2584821|[1378078724, 1378...|                null|30806|239747403|     null|  12|      73|            12|         15|        28|\n",
            "|24483|[12.4543310422450...|[29.4, 29.4, 29.6...|[41.9135155342519...|                 run|[75, 75, 76, 85, ...|  male|https://www.endom...|             8632256|[1378378192, 1378...|                null|80504|241397259|     null|  33|      80|             5|         19|         5|\n",
            "| 1450|[4.16119365021586...|[31.2, 30.2, 31.8...|[51.9039478339254...|                bike|[97, 99, 107, 118...|  male|[1379176642, 1379...|https://www.endom...|             8467445|[15.372, 14.4684,...|66494|245611101|     null|   3|      87|            10|         18|        22|\n",
            "|38101|[-119.36600354500...|[456.6, 453.0, 44...|[49.9701541755348...|                bike|[90, 105, 111, 10...|  male|[1379291833, 1379...|https://www.endom...|              843607|                null|60449|246255300|     null|   1|      52|             0|         23|         3|\n",
            "|45091|[37.4425034, 37.4...|[115.8, 115.8, 11...|[55.754876, 55.75...|                 run|[82, 82, 80, 84, ...|  male|[1380323463, 1380...|https://www.endom...|             4057523|                null|28341|251312388|     null|  33|      75|             0|          6|         5|\n",
            "|46280|[24.6793857682496...|[3.2, 4.2, 2.4, 2...|[60.2110504824668...|       mountain bike|[158, 154, 147, 1...|  male|https://www.endom...|             2894897|[1380364296, 1380...|                null|73260|252189244|     null|  35|      93|             0|          4|         9|\n",
            "| 1427|[4.24124870449304...|[2.2, 1.8, 4.2, 3...|[51.8537526391446...|                bike|[120, 119, 119, 1...|  male|[1380586722, 1380...|https://www.endom...|             8467445|[18.7092, 20.016,...|66452|252553970|     null|   1|      58|             4|         16|        24|\n",
            "+-----+--------------------+--------------------+--------------------+--------------------+--------------------+------+--------------------+--------------------+--------------------+--------------------+-----+---------+---------+----+--------+--------------+-----------+----------+\n",
            "only showing top 20 rows\n",
            "\n"
          ]
        }
      ]
    },
    {
      "cell_type": "code",
      "source": [
        "# select feature\n",
        "final_df = final_df.drop('timestamp','url','_c0')\n",
        "final_df.show(10)"
      ],
      "metadata": {
        "colab": {
          "base_uri": "https://localhost:8080/"
        },
        "id": "zx5MY4o9mA1S",
        "outputId": "e8a5f34d-0ff1-488e-c490-b780b38e7910"
      },
      "execution_count": 21,
      "outputs": [
        {
          "output_type": "stream",
          "name": "stdout",
          "text": [
            "+--------------------+--------------------+--------------------+--------------------+--------------------+------+--------------------+-----+---------+---------+----+--------+--------------+-----------+----------+\n",
            "|           longitude|            altitude|            latitude|               sport|          heart_rate|gender|              userId|speed|       id|hydration|type|humidity|wind_direction|temperature|wind_speed|\n",
            "+--------------------+--------------------+--------------------+--------------------+--------------------+------+--------------------+-----+---------+---------+----+--------+--------------+-----------+----------+\n",
            "|[10.1940886, 10.1...|[0.0, 0.0, 0.0, 0...|[56.1326437, 56.1...|                 run|[123, 123, 123, 1...|  male|[1351969475, 1351...| null|108799137|     null|   3|      89|             9|          8|        16|\n",
            "|[20.2725612, 20.2...|[495.6, 496.0, 49...|[67.8380757, 67.8...|cross-country skiing|[111, 111, 111, 1...|  male|             8276277| null|156861290|     null|  33|      92|            10|         -5|        16|\n",
            "|[10.6020081, 10.6...|[618.4, 618.4, 61...|[60.26141, 60.261...|cross-country skiing|[102, 108, 114, 1...|  male|[1359818493, 1359...| null|157801456|     null|   4|      53|            14|         -9|        33|\n",
            "|[12.2931501, 12.2...|[17.4, 17.4, 17.4...|[55.6639334, 55.6...|                 run|[83, 83, 86, 88, ...|  male|[1360108000, 1360...| null|158158354|     null|   3|      86|            10|          2|        14|\n",
            "|[10.6474993284791...|[50.4, 50.4, 48.4...|[59.6611873246729...|                 run|[55, 54, 67, 75, ...|  male|[1362840897, 1362...| null|166725302|     null|   1|      79|             0|         -7|         5|\n",
            "|[11.0938409529626...|[22.0, 22.6, 22.6...|[55.6489438656717...|                bike|[91, 94, 100, 102...|  male|              804068| null|178871907|     null|   2|      82|            10|          6|        29|\n",
            "|[24.6509917, 24.6...|[10.0, 10.0, 10.0...|[60.1476198, 60.1...|                walk|[90, 90, 90, 91, ...|  male|[1367686176, 1367...| null|185137509|     null|   1|      43|             9|         11|        12|\n",
            "|[25.339401, 25.33...|[79.2, 80.0, 77.4...|[54.7237394, 54.7...|       mountain bike|[109, 113, 118, 1...|  male|[1370710622, 1370...| null|204499899|     null|   1|      52|             0|         20|         7|\n",
            "|[12.6345747, 12.6...|[23.2, 23.2, 23.2...|[55.6452689, 55.6...|                 run|[85, 86, 88, 89, ...|  male|[1371908803, 1371...| null|206534281|     null|   7|      87|            10|         16|        22|\n",
            "|[12.5577716901898...|[14.2, 14.4, 14.4...|[55.7560058310627...|                 run|[99, 99, 104, 104...|  male|[1372606174, 1372...| null|209981820|     null|   6|      71|            12|         13|        27|\n",
            "+--------------------+--------------------+--------------------+--------------------+--------------------+------+--------------------+-----+---------+---------+----+--------+--------------+-----------+----------+\n",
            "only showing top 10 rows\n",
            "\n"
          ]
        }
      ]
    },
    {
      "cell_type": "code",
      "source": [
        "#downsample\n",
        "sdf = final_df.sample(False, 0.1, seed=0).limit(10000)\n",
        "sdf.toPandas().to_csv('/content/drive/MyDrive/downsample.csv')"
      ],
      "metadata": {
        "id": "n6TxmyOYJ32A"
      },
      "execution_count": 22,
      "outputs": []
    },
    {
      "cell_type": "code",
      "source": [
        "# Dummy Encoded\n",
        "from pyspark.ml import Pipeline\n",
        "from pyspark.ml.feature import StringIndexer, OneHotEncoder, VectorAssembler\n",
        "stringIndexer = StringIndexer(inputCol=\"gender\", outputCol=\"gender_index\")\n",
        "model = stringIndexer.fit(final_df)\n",
        "indexed = model.transform(final_df)\n",
        "stringIndexer = StringIndexer(inputCol=\"sport\", outputCol=\"sport_index\")\n",
        "model = stringIndexer.fit(indexed)\n",
        "encoded = model.transform(indexed)\n",
        "final_df= encoded.drop(\"gender\",\"sport\")"
      ],
      "metadata": {
        "id": "0RedjEePTsBQ"
      },
      "execution_count": 24,
      "outputs": []
    },
    {
      "cell_type": "code",
      "source": [
        "final_df.show(10)"
      ],
      "metadata": {
        "colab": {
          "base_uri": "https://localhost:8080/"
        },
        "id": "tXFCq0IaF-L4",
        "outputId": "9e024725-1da9-4b15-bcf4-22eb224c2aa8"
      },
      "execution_count": 25,
      "outputs": [
        {
          "output_type": "stream",
          "name": "stdout",
          "text": [
            "+--------------------+--------------------+--------------------+--------------------+--------------------+-----+---------+---------+----+--------+--------------+-----------+----------+------------+-----------+\n",
            "|           longitude|            altitude|            latitude|          heart_rate|              userId|speed|       id|hydration|type|humidity|wind_direction|temperature|wind_speed|gender_index|sport_index|\n",
            "+--------------------+--------------------+--------------------+--------------------+--------------------+-----+---------+---------+----+--------+--------------+-----------+----------+------------+-----------+\n",
            "|[10.1940886, 10.1...|[0.0, 0.0, 0.0, 0...|[56.1326437, 56.1...|[123, 123, 123, 1...|[1351969475, 1351...| null|108799137|     null|   3|      89|             9|          8|        16|         0.0|        0.0|\n",
            "|[20.2725612, 20.2...|[495.6, 496.0, 49...|[67.8380757, 67.8...|[111, 111, 111, 1...|             8276277| null|156861290|     null|  33|      92|            10|         -5|        16|         0.0|        4.0|\n",
            "|[10.6020081, 10.6...|[618.4, 618.4, 61...|[60.26141, 60.261...|[102, 108, 114, 1...|[1359818493, 1359...| null|157801456|     null|   4|      53|            14|         -9|        33|         0.0|        4.0|\n",
            "|[12.2931501, 12.2...|[17.4, 17.4, 17.4...|[55.6639334, 55.6...|[83, 83, 86, 88, ...|[1360108000, 1360...| null|158158354|     null|   3|      86|            10|          2|        14|         0.0|        0.0|\n",
            "|[10.6474993284791...|[50.4, 50.4, 48.4...|[59.6611873246729...|[55, 54, 67, 75, ...|[1362840897, 1362...| null|166725302|     null|   1|      79|             0|         -7|         5|         0.0|        0.0|\n",
            "|[11.0938409529626...|[22.0, 22.6, 22.6...|[55.6489438656717...|[91, 94, 100, 102...|              804068| null|178871907|     null|   2|      82|            10|          6|        29|         0.0|        1.0|\n",
            "|[24.6509917, 24.6...|[10.0, 10.0, 10.0...|[60.1476198, 60.1...|[90, 90, 90, 91, ...|[1367686176, 1367...| null|185137509|     null|   1|      43|             9|         11|        12|         0.0|        6.0|\n",
            "|[25.339401, 25.33...|[79.2, 80.0, 77.4...|[54.7237394, 54.7...|[109, 113, 118, 1...|[1370710622, 1370...| null|204499899|     null|   1|      52|             0|         20|         7|         0.0|        2.0|\n",
            "|[12.6345747, 12.6...|[23.2, 23.2, 23.2...|[55.6452689, 55.6...|[85, 86, 88, 89, ...|[1371908803, 1371...| null|206534281|     null|   7|      87|            10|         16|        22|         0.0|        0.0|\n",
            "|[12.5577716901898...|[14.2, 14.4, 14.4...|[55.7560058310627...|[99, 99, 104, 104...|[1372606174, 1372...| null|209981820|     null|   6|      71|            12|         13|        27|         0.0|        0.0|\n",
            "+--------------------+--------------------+--------------------+--------------------+--------------------+-----+---------+---------+----+--------+--------------+-----------+----------+------------+-----------+\n",
            "only showing top 10 rows\n",
            "\n"
          ]
        }
      ]
    },
    {
      "cell_type": "code",
      "source": [
        "# calculate mean for list column\n",
        "import json\n",
        "import numpy as np\n",
        "import pyspark.sql.functions as F\n",
        "\n",
        "array_mean = F.udf(lambda x: float(np.mean(json.loads(x))), 'float')\n",
        "difference_range = F.udf(lambda x: float(np.max(json.loads(x))-np.min(json.loads(x))), 'float')\n",
        "df2 = final_df.withColumn('heart_rate', array_mean('heart_rate')) \\\n",
        ".withColumn(\"longitude\", difference_range('longitude')) \\\n",
        ".withColumn(\"altitude\", difference_range('altitude')) \\\n",
        ".withColumn(\"latitude\", difference_range('latitude')) \\\n",
        ".withColumn('userId', array_mean('userId'))\n",
        "from pyspark.sql.types import DoubleType\n",
        "final_df = df2.withColumn(\"speed\", df2[\"speed\"].cast(DoubleType()))\\\n",
        ".withColumn(\"type\",df2[\"type\"].cast(DoubleType())) \\\n",
        ".withColumn(\"humidity\", df2[\"humidity\"].cast(DoubleType())) \\\n",
        ".withColumn(\"wind_direction\", df2[\"wind_direction\"].cast(DoubleType())) \\\n",
        ".withColumn(\"temperature\", df2[\"temperature\"].cast(DoubleType())) \\\n",
        ".withColumn(\"wind_speed\", df2[\"wind_speed\"].cast(DoubleType())) \\\n",
        ".withColumn(\"longitude\", df2[\"longitude\"].cast(DoubleType())) \\\n",
        ".withColumn(\"altitude\", df2[\"altitude\"].cast(DoubleType())) \\\n",
        ".withColumn(\"latitude\", df2[\"latitude\"].cast(DoubleType())) \\\n",
        ".withColumn(\"gender_index\", df2[\"gender_index\"].cast(DoubleType())) \\\n",
        ".withColumn(\"sport_index\", df2[\"sport_index\"].cast(DoubleType()))\n",
        "final_df.show(10)"
      ],
      "metadata": {
        "colab": {
          "base_uri": "https://localhost:8080/"
        },
        "id": "lIr7yK1dRAwi",
        "outputId": "01938719-d090-4049-db91-f9adefaf1861"
      },
      "execution_count": 26,
      "outputs": [
        {
          "output_type": "stream",
          "name": "stdout",
          "text": [
            "+--------------------+------------------+--------------------+----------+------------+-----+---------+---------+----+--------+--------------+-----------+----------+------------+-----------+\n",
            "|           longitude|          altitude|            latitude|heart_rate|      userId|speed|       id|hydration|type|humidity|wind_direction|temperature|wind_speed|gender_index|sport_index|\n",
            "+--------------------+------------------+--------------------+----------+------------+-----+---------+---------+----+--------+--------------+-----------+----------+------------+-----------+\n",
            "|0.024198299273848534|              45.0|0.011305700056254864|   148.734|1.35197069E9| null|108799137|     null| 3.0|    89.0|           9.0|        8.0|      16.0|         0.0|        0.0|\n",
            "| 0.06210609897971153|47.599998474121094|0.023440299555659294|   165.284|   8276277.0| null|156861290|     null|33.0|    92.0|          10.0|       -5.0|      16.0|         0.0|        4.0|\n",
            "| 0.04054969921708107|  85.4000015258789| 0.02672410011291504|   160.588|1.35982029E9| null|157801456|     null| 4.0|    53.0|          14.0|       -9.0|      33.0|         0.0|        4.0|\n",
            "|0.031344298273324966|24.799999237060547|0.016631100326776505|   144.274|1.36010906E9| null|158158354|     null| 3.0|    86.0|          10.0|        2.0|      14.0|         0.0|        0.0|\n",
            "| 0.02436552196741104| 116.4000015258789| 0.02634105272591114|    124.48|1.36284262E9| null|166725302|     null| 1.0|    79.0|           0.0|       -7.0|       5.0|         0.0|        0.0|\n",
            "| 0.09905950725078583|              30.0|0.024596191942691803|   131.654|    804068.0| null|178871907|     null| 2.0|    82.0|          10.0|        6.0|      29.0|         0.0|        1.0|\n",
            "| 0.02748039923608303|  71.4000015258789| 0.00985919963568449|    93.212| 1.3676873E9| null|185137509|     null| 1.0|    43.0|           9.0|       11.0|      12.0|         0.0|        6.0|\n",
            "|0.059765901416540146| 62.79999923706055| 0.07170689851045609|     127.3|1.37071232E9| null|204499899|     null| 1.0|    52.0|           0.0|       20.0|       7.0|         0.0|        2.0|\n",
            "|0.010912399739027023| 4.599999904632568| 0.01769769936800003|    142.42|1.37190925E9| null|206534281|     null| 7.0|    87.0|          10.0|       16.0|      22.0|         0.0|        0.0|\n",
            "| 0.01296219415962696|28.799999237060547|0.005969423800706863|   122.692|1.37260685E9| null|209981820|     null| 6.0|    71.0|          12.0|       13.0|      27.0|         0.0|        0.0|\n",
            "+--------------------+------------------+--------------------+----------+------------+-----+---------+---------+----+--------+--------------+-----------+----------+------------+-----------+\n",
            "only showing top 10 rows\n",
            "\n"
          ]
        }
      ]
    },
    {
      "cell_type": "code",
      "source": [
        "# turn features to vector\n",
        "from pyspark.ml.feature import VectorAssembler\n",
        "assemble=VectorAssembler(inputCols=[\"heart_rate\",\"userId\",\"type\",\"humidity\",\"wind_direction\",\n",
        "\"temperature\",\"wind_speed\",\"gender_index\"],outputCol = 'features_raw')\n",
        "\n",
        "assembled_data=assemble.transform(final_df).select(\"sport_index\", \"features_raw\")\\\n",
        ".withColumnRenamed(\"sport_index\",\"label\")\n",
        "assembled_data.show(2)"
      ],
      "metadata": {
        "colab": {
          "base_uri": "https://localhost:8080/"
        },
        "id": "AOs7V66hwCqi",
        "outputId": "0e8ebffa-d759-456e-c266-6df8319b5905"
      },
      "execution_count": 27,
      "outputs": [
        {
          "output_type": "stream",
          "name": "stdout",
          "text": [
            "+-----+--------------------+\n",
            "|label|        features_raw|\n",
            "+-----+--------------------+\n",
            "|  0.0|[148.733993530273...|\n",
            "|  4.0|[165.283996582031...|\n",
            "+-----+--------------------+\n",
            "only showing top 2 rows\n",
            "\n"
          ]
        }
      ]
    },
    {
      "cell_type": "code",
      "source": [
        "# scale the data\n",
        "from pyspark.ml.feature import StandardScaler\n",
        "scale=StandardScaler(inputCol='features_raw',outputCol='features')\n",
        "data_scale=scale.fit(assembled_data)\n",
        "data_scale_output=data_scale.transform(assembled_data).drop('features_raw')\n",
        "data_scale_output.show(2)"
      ],
      "metadata": {
        "colab": {
          "base_uri": "https://localhost:8080/"
        },
        "id": "OC0XLvu9vjaF",
        "outputId": "f2653c0f-d0b6-42f7-f882-7cc7d49172ba"
      },
      "execution_count": 28,
      "outputs": [
        {
          "output_type": "stream",
          "name": "stdout",
          "text": [
            "+-----+--------------------+\n",
            "|label|            features|\n",
            "+-----+--------------------+\n",
            "|  0.0|[8.69628789764878...|\n",
            "|  4.0|[9.66394557851215...|\n",
            "+-----+--------------------+\n",
            "only showing top 2 rows\n",
            "\n"
          ]
        }
      ]
    },
    {
      "cell_type": "code",
      "source": [
        "# split train and test\n",
        "train, test, val = data_scale_output.randomSplit([0.6, 0.2, 0.2],seed= 24)"
      ],
      "metadata": {
        "id": "7zY-9RegVG3d"
      },
      "execution_count": 29,
      "outputs": []
    },
    {
      "cell_type": "code",
      "source": [
        "# set model\n",
        "from pyspark.ml.clustering import GaussianMixture\n",
        "\n",
        "gmm = GaussianMixture().setK(10).setSeed(538009335)\n",
        "model = gmm.fit(train)\n",
        "\n",
        "print(\"Gaussians shown as a DataFrame: \")\n",
        "model.gaussiansDF.show(truncate=False)"
      ],
      "metadata": {
        "id": "9K7GMkn0TsJ0",
        "colab": {
          "base_uri": "https://localhost:8080/"
        },
        "outputId": "5492dd37-1138-444f-9888-826fb7b8511b"
      },
      "execution_count": 30,
      "outputs": [
        {
          "output_type": "stream",
          "name": "stdout",
          "text": [
            "Gaussians shown as a DataFrame: \n",
            "+------------------------------------------------------------------------------------------------------------------------------------------------------------+-------------------------------------------------------------------------------------------------------------------------------------------------------------------------------------------------------------------------------------------------------------------------------------------------------------------------------------------------------------------------------------------------------------------------------------------------+\n",
            "|mean                                                                                                                                                        |cov                                                                                                                                                                                                                                                                                                                                                                                                                                              |\n",
            "+------------------------------------------------------------------------------------------------------------------------------------------------------------+-------------------------------------------------------------------------------------------------------------------------------------------------------------------------------------------------------------------------------------------------------------------------------------------------------------------------------------------------------------------------------------------------------------------------------------------------+\n",
            "|[8.392834724963238,0.005669875088848223,0.4558996270995853,3.9554751450184544,1.5939339040875236,1.6148672734734124,1.5165885998479072,3.5338000285399964]  |0.5444024141081509      -3.7015575584015354E-4  ... (8 total)\n",
            "-3.7015575584015354E-4  1.666684617043279E-5    ...\n",
            "-0.007874762252732303   1.9747208446686096E-4   ...\n",
            "0.025406299488895293    3.605161558852141E-4    ...\n",
            "-0.04658278428698482    3.09366046278254E-4     ...\n",
            "0.014701481549646515    -6.710039256063565E-4   ...\n",
            "-0.02261475080142478    3.3490849622334716E-4   ...\n",
            "1.6713292133840307E-8   -6.346541156541221E-9   ...        |\n",
            "|[8.123164221577765,2.0510677160693893,0.8103649756827761,4.483089913632024,1.8727241116228464,0.7287815329019196,4.092935506602133,3.5337998214128867]      |1.5839378829360755    0.038800519720589705   ... (8 total)\n",
            "0.038800519720589705  0.0020792597736568378  ...\n",
            "0.19431281207284118   -0.010646056119286037  ...\n",
            "0.7125572290805499    0.010949972649465914   ...\n",
            "0.7454644064406963    0.006269850069397417   ...\n",
            "0.562424014749581     -0.005734413598133087  ...\n",
            "-1.0625965620788116   0.008152951934991697   ...\n",
            "1.094776925631854E-6  -7.343588115974206E-9  ...                                |\n",
            "|[8.542164286496368,2.0664901442276578,0.3678914359495296,3.855951196254636,1.7685375596880082,1.5547672859919681,1.7255576428447306,3.533800029445198]      |1.0536566419431648     -6.73618733482691E-4    ... (8 total)\n",
            "-6.73618733482691E-4   0.0018330208020804486   ...\n",
            "0.01882646278406569    -3.984962180563008E-4   ...\n",
            "0.07876746281400325    -0.002585665508911986   ...\n",
            "0.011118540685871746   1.9132952567189456E-4   ...\n",
            "-0.08320883216159483   0.009009174682183157    ...\n",
            "-0.10859041281256464   -0.0012901370454483953  ...\n",
            "1.2074589770164532E-8  -4.18795129841695E-11   ...                |\n",
            "|[8.324181591166937,1.384447202217632,3.2862381675460606,4.423990447256433,1.5019696314908628,1.0121862996004172,1.227825441019128,3.533800023360208]        |1.014168483341294     0.03668990973387986    ... (8 total)\n",
            "0.03668990973387986   0.9522536903715594     ...\n",
            "-0.0203937330162837   -0.015244188353643315  ...\n",
            "0.02584145424055807   -0.10681831260456484   ...\n",
            "0.0129063339707093    0.02296270196007309    ...\n",
            "-0.22587764568335889  0.179190149099915      ...\n",
            "0.02918443942778139   -0.001121110119905662  ...\n",
            "4.452568101990196E-8  -5.774199683088118E-9  ...                                |\n",
            "|[8.125179641086186,1.1807854742899846,3.2602788431608314,4.433350974815119,1.4769469188954738,1.3351544820431607,1.293703620020094,1.0570366334440535E-13]  |0.9151810822063372      -0.08435820831453687   ... (8 total)\n",
            "-0.08435820831453687    1.0527479755983948     ...\n",
            "-0.01142895383292858    0.006627619510057704   ...\n",
            "0.07752971961813303     0.008798405000283586   ...\n",
            "-0.01089352686071204    -0.00791429479196024   ...\n",
            "-0.15040122381678242    -0.22472889666888052   ...\n",
            "-0.014544872446331293   0.0764737587433342     ...\n",
            "-8.679237627442852E-14  5.295307382524298E-16  ...                |\n",
            "|[8.192973873126048,0.006617562793180862,0.4472843305766218,3.9820684296664033,1.6690780648926389,1.738994609953336,1.5638530992801287,4.163695517770536E-14]|0.8489602690252106      -3.577839553784524E-4   ... (8 total)\n",
            "-3.577839553784524E-4   3.896973572541648E-5    ...\n",
            "0.007910048554520679    2.8983120687459006E-5   ...\n",
            "-0.02149319711962721    -1.76898100017284E-4    ...\n",
            "0.029742421531237635    -2.5433838731811558E-5  ...\n",
            "-0.1267094620252852     9.592559504846832E-4    ...\n",
            "0.08391114624134902     -3.1148054392221493E-4  ...\n",
            "-3.701049411604805E-14  4.909736027352443E-14   ...        |\n",
            "|[8.233895708807717,2.0661387003060385,1.7023250153400995,4.828847019632433,1.6115395502235719,0.9144994882741303,1.9046505937935605,5.574193974701717E-13]  |1.0255687040781267      -0.004853736888359757   ... (8 total)\n",
            "-0.004853736888359757   0.0014678046871073715   ...\n",
            "0.0069579236152068685   -7.525655741536076E-4   ...\n",
            "0.0704234104888855      2.3216784193386258E-4   ...\n",
            "-0.0974450596382775     0.0036348245055638326   ...\n",
            "-0.11385758980680984    0.003795289076942568    ...\n",
            "0.14288326812602592     -0.00474898169517088    ...\n",
            "-5.182927572004713E-13  -4.907206258868177E-13  ...        |\n",
            "|[8.482416873614058,2.052783991270153,1.4716136794674175,4.663920276539118,1.7885101759656923,1.2639203598125912,2.0421771760139342,3.533800012305745]       |0.9511802264523632     -0.004689485367371112   ... (8 total)\n",
            "-0.004689485367371112  0.0015450246011097122   ...\n",
            "-4.884714213574186E-4  0.0011546959801348978   ...\n",
            "0.051134863606265325   -0.0014755949929861785  ...\n",
            "-0.07881490640602273   -0.0012760368656227563  ...\n",
            "-0.11516718474661886   0.00975272276339899     ...\n",
            "-0.18654905939282243   -9.757888106582713E-4   ...\n",
            "1.073799734770984E-7   -6.407156424342578E-10  ...                |\n",
            "|[7.1199476775404875,2.0800349299490533,2.324832962427907,3.171909705503208,1.7915826618755515,0.8988434872758397,5.751620162562152,2.120279842425203]       |1.6595353285176309    -0.01583246113468334    ... (8 total)\n",
            "-0.01583246113468334  0.0012919337327090823   ...\n",
            "-0.180059613009532    0.025457293549918523    ...\n",
            "1.4979783165982523    -0.02145385784457343    ...\n",
            "-0.8903053315497805   -0.0028141219956004616  ...\n",
            "-0.8650961605796036   0.03762749130270406     ...\n",
            "0.1845968924512141    -0.07494756786991538    ...\n",
            "0.5299812509027023    0.03955440090929467     ...                        |\n",
            "|[8.100291512001892,2.0734748575207016,0.41364633560592357,3.9172435562601144,1.6631454886411225,1.6695209543583391,1.626396467811641,2.573101512716699E-14] |1.1535594395192188       -0.003977576406229751   ... (8 total)\n",
            "-0.003977576406229751    0.0015114008956430142   ...\n",
            "0.004946711746775217     4.8529817809884E-4      ...\n",
            "0.09257362175217144      5.587206212137831E-4    ...\n",
            "-0.0015523489321859546   -3.227904948974275E-4   ...\n",
            "-0.10036303339872327     0.0012753271193573167   ...\n",
            "0.03082309368285561      -0.002861721444590306   ...\n",
            "-2.0487120198347892E-14  -2.284090249845788E-14  ...|\n",
            "+------------------------------------------------------------------------------------------------------------------------------------------------------------+-------------------------------------------------------------------------------------------------------------------------------------------------------------------------------------------------------------------------------------------------------------------------------------------------------------------------------------------------------------------------------------------------------------------------------------------------+\n",
            "\n"
          ]
        }
      ]
    },
    {
      "cell_type": "code",
      "source": [
        "predictions = model.transform(test)\n",
        "predictions.show(5)"
      ],
      "metadata": {
        "colab": {
          "base_uri": "https://localhost:8080/"
        },
        "id": "0pqKET07P6fP",
        "outputId": "5b7cd24b-3d2a-4125-e7c0-424327d9edb0"
      },
      "execution_count": 31,
      "outputs": [
        {
          "output_type": "stream",
          "name": "stdout",
          "text": [
            "+-----+--------------------+--------------------+----------+\n",
            "|label|            features|         probability|prediction|\n",
            "+-----+--------------------+--------------------+----------+\n",
            "|  0.0|[7.91771860758082...|[4.31914615691030...|         5|\n",
            "|  0.0|[7.96718363956691...|[1.65329757206793...|         2|\n",
            "|  0.0|[7.99594962012978...|[1.81538357930711...|         9|\n",
            "|  0.0|[8.24292148389355...|[3.87500225142086...|         5|\n",
            "|  0.0|[8.32711659966066...|[1.77421341704667...|         9|\n",
            "+-----+--------------------+--------------------+----------+\n",
            "only showing top 5 rows\n",
            "\n"
          ]
        }
      ]
    },
    {
      "cell_type": "code",
      "source": [
        "\n",
        "print((predictions.where(predictions.label == predictions.prediction).count())/predictions.count())\n",
        "  \n"
      ],
      "metadata": {
        "id": "wOT41MgGShCT"
      },
      "execution_count": null,
      "outputs": []
    },
    {
      "cell_type": "code",
      "source": [
        "# deal with large dataset\n",
        "#import gzip\n",
        "#data = []\n",
        "#with gzip.open('endomondoHR.json.gz') as f:\n",
        "#with open('/content/drive/MyDrive/endomondoMeta.json') as f:\n",
        "    #i = 1\n",
        "    #for l in f:\n",
        "      #  if i % 100000!=0:\n",
        "       #     data.append(eval(l))\n",
        "        #    i+=1\n",
        "       # else:\n",
        "        #    path = '/content/drive/MyDrive/'+str(i//100000)+'.csv'\n",
        "         #   pd.DataFrame(data)[['weather','id','hydration']].to_csv(path)\n",
        "         #   i+=1\n",
        "         #   data = []\n",
        "         #   print(i)\n"
      ],
      "metadata": {
        "colab": {
          "base_uri": "https://localhost:8080/"
        },
        "id": "V3tnS1T6XlqT",
        "outputId": "a0b84649-93e7-4364-8f34-e7e964529794"
      },
      "execution_count": null,
      "outputs": [
        {
          "output_type": "stream",
          "name": "stdout",
          "text": [
            "50001\n",
            "100001\n",
            "150001\n"
          ]
        }
      ]
    }
  ]
}